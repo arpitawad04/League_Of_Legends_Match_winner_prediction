{
  "nbformat": 4,
  "nbformat_minor": 0,
  "metadata": {
    "colab": {
      "name": "A21005_Arpit_Awad_BDSN_Assignment_notebook.ipynb",
      "provenance": [],
      "collapsed_sections": [],
      "authorship_tag": "ABX9TyN2DWtNiyVKqh9Usw1RWyn/",
      "include_colab_link": true
    },
    "kernelspec": {
      "name": "python3",
      "display_name": "Python 3"
    },
    "language_info": {
      "name": "python"
    }
  },
  "cells": [
    {
      "cell_type": "markdown",
      "metadata": {
        "id": "view-in-github",
        "colab_type": "text"
      },
      "source": [
        "<a href=\"https://colab.research.google.com/github/arpitawad04/League_Of_Legends_Match_winner_prediction/blob/main/A21005_Arpit_Awad_BDSN_Assignment_notebook.ipynb\" target=\"_parent\"><img src=\"https://colab.research.google.com/assets/colab-badge.svg\" alt=\"Open In Colab\"/></a>"
      ]
    },
    {
      "cell_type": "markdown",
      "source": [
        "#Objective:\n",
        "The purpose of the project is to analyse a dataset and predict the winner of the match before a match has been started on the basis of players historical data. The statistical algorithm ‘Logistic Regression’ would also be used to train the dataset and predict an assigned binary target variable. The data of League of Legends pre match 2021’ is used for analysis. League of Legends, commonly referred to as League, is a 2009 multiplayer online battle arena video game developed and published by Riot Games. Inspired by Defence of the Ancients, a custom map for Warcraft III, Riot's founders sought to develop a stand-alone game in the same genre. A proper analysis of the data will help in bringing out meaningful insights."
      ],
      "metadata": {
        "id": "Ok1c8BuwUaTG"
      }
    },
    {
      "cell_type": "markdown",
      "source": [
        "Required packages have been imported."
      ],
      "metadata": {
        "id": "LZ4sAHc8VSSB"
      }
    },
    {
      "cell_type": "code",
      "source": [
        "import pandas as pd \n",
        "import numpy as np \n",
        "import matplotlib.pyplot as plt \n",
        "import seaborn as sns \n",
        "%matplotlib inline"
      ],
      "metadata": {
        "id": "J5x9cJsE5zjB"
      },
      "execution_count": 7,
      "outputs": []
    },
    {
      "cell_type": "markdown",
      "source": [
        "#Install Spark\n",
        "apt is a command-line utility for installing, updating, removing, and otherwise managing deb packages on Ubuntu, Debian, and related Linux distributions."
      ],
      "metadata": {
        "id": "he_JsJucTxCN"
      }
    },
    {
      "cell_type": "code",
      "source": [
        "!apt update > /dev/null\n",
        "!apt install openjdk-8-jdk-headless -qq > /dev/null"
      ],
      "metadata": {
        "colab": {
          "base_uri": "https://localhost:8080/"
        },
        "id": "wXQOJRc_qDBA",
        "outputId": "b273f25c-ab46-467a-e788-13e761fd1ef2"
      },
      "execution_count": 8,
      "outputs": [
        {
          "output_type": "stream",
          "name": "stdout",
          "text": [
            "\n",
            "WARNING: apt does not have a stable CLI interface. Use with caution in scripts.\n",
            "\n",
            "\n",
            "WARNING: apt does not have a stable CLI interface. Use with caution in scripts.\n",
            "\n"
          ]
        }
      ]
    },
    {
      "cell_type": "code",
      "source": [
        "!wget -q http://apache.osuosl.org/spark/spark-3.1.2/spark-3.1.2-bin-hadoop3.2.tgz\n",
        "!tar xf spark-3.1.2-bin-hadoop3.2.tgz\n",
        "!pip install -q pyspark\n",
        "\n",
        "import os\n",
        "os.environ[\"JAVA_HOME\"] = \"/usr/lib/jvm/java-8-openjdk-amd64\"\n",
        "os.environ[\"SPARK_HOME\"] = \"/content/spark-3.1.2-bin-hadoop3.2\"\n"
      ],
      "metadata": {
        "colab": {
          "base_uri": "https://localhost:8080/"
        },
        "id": "NeUh7mV0880V",
        "outputId": "a6b91e60-140e-4c7e-9e58-ec3ac1c82c49"
      },
      "execution_count": 9,
      "outputs": [
        {
          "output_type": "stream",
          "name": "stdout",
          "text": [
            "\u001b[K     |████████████████████████████████| 281.4 MB 35 kB/s \n",
            "\u001b[K     |████████████████████████████████| 198 kB 30.8 MB/s \n",
            "\u001b[?25h  Building wheel for pyspark (setup.py) ... \u001b[?25l\u001b[?25hdone\n"
          ]
        }
      ]
    },
    {
      "cell_type": "code",
      "source": [
        "from pyspark.sql import SparkSession\n",
        "spark = SparkSession.builder.master(\"local[*]\").getOrCreate()\n",
        "sc = spark.sparkContext\n",
        "sc"
      ],
      "metadata": {
        "colab": {
          "base_uri": "https://localhost:8080/",
          "height": 198
        },
        "id": "RJhyd0ZV9KxZ",
        "outputId": "dcd73c20-047d-4ca4-e7fa-d35f9800c2b5"
      },
      "execution_count": 10,
      "outputs": [
        {
          "output_type": "execute_result",
          "data": {
            "text/html": [
              "\n",
              "        <div>\n",
              "            <p><b>SparkContext</b></p>\n",
              "\n",
              "            <p><a href=\"http://cbb2e12194fd:4040\">Spark UI</a></p>\n",
              "\n",
              "            <dl>\n",
              "              <dt>Version</dt>\n",
              "                <dd><code>v3.1.2</code></dd>\n",
              "              <dt>Master</dt>\n",
              "                <dd><code>local[*]</code></dd>\n",
              "              <dt>AppName</dt>\n",
              "                <dd><code>pyspark-shell</code></dd>\n",
              "            </dl>\n",
              "        </div>\n",
              "        "
            ],
            "text/plain": [
              "<SparkContext master=local[*] appName=pyspark-shell>"
            ]
          },
          "metadata": {},
          "execution_count": 10
        }
      ]
    },
    {
      "cell_type": "markdown",
      "source": [
        "#Downloading dataset from link"
      ],
      "metadata": {
        "id": "IdNKWZbqm0AK"
      }
    },
    {
      "cell_type": "code",
      "source": [
        "!wget --no-check-certificate 'https://docs.google.com/uc?export=download&id=1tTUiFkogJoWCVVkEOJ6mufQRf-5KVhVE' -O LOL_transformed_dataset_extended_withadded_attributes.csv\n"
      ],
      "metadata": {
        "colab": {
          "base_uri": "https://localhost:8080/"
        },
        "id": "zSuHjt1WmJLa",
        "outputId": "0a8edaee-62b7-423a-88a4-d9e95f7a29b7"
      },
      "execution_count": 6,
      "outputs": [
        {
          "output_type": "stream",
          "name": "stdout",
          "text": [
            "--2022-03-05 05:43:14--  https://docs.google.com/uc?export=download&id=1tTUiFkogJoWCVVkEOJ6mufQRf-5KVhVE\n",
            "Resolving docs.google.com (docs.google.com)... 172.217.203.102, 172.217.203.113, 172.217.203.139, ...\n",
            "Connecting to docs.google.com (docs.google.com)|172.217.203.102|:443... connected.\n",
            "HTTP request sent, awaiting response... 303 See Other\n",
            "Location: https://doc-0s-8o-docs.googleusercontent.com/docs/securesc/ha0ro937gcuc7l7deffksulhg5h7mbp1/8u8mjjrofktbj3tq526f20b2l9a6o5ef/1646458950000/06650428154504132176/*/1tTUiFkogJoWCVVkEOJ6mufQRf-5KVhVE?e=download [following]\n",
            "Warning: wildcards not supported in HTTP.\n",
            "--2022-03-05 05:43:16--  https://doc-0s-8o-docs.googleusercontent.com/docs/securesc/ha0ro937gcuc7l7deffksulhg5h7mbp1/8u8mjjrofktbj3tq526f20b2l9a6o5ef/1646458950000/06650428154504132176/*/1tTUiFkogJoWCVVkEOJ6mufQRf-5KVhVE?e=download\n",
            "Resolving doc-0s-8o-docs.googleusercontent.com (doc-0s-8o-docs.googleusercontent.com)... 172.217.203.132, 2607:f8b0:400c:c07::84\n",
            "Connecting to doc-0s-8o-docs.googleusercontent.com (doc-0s-8o-docs.googleusercontent.com)|172.217.203.132|:443... connected.\n",
            "HTTP request sent, awaiting response... 200 OK\n",
            "Length: 7575275 (7.2M) [text/csv]\n",
            "Saving to: ‘LOL_transformed_dataset_extended_withadded_attributes.csv’\n",
            "\n",
            "LOL_transformed_dat 100%[===================>]   7.22M  --.-KB/s    in 0.05s   \n",
            "\n",
            "2022-03-05 05:43:16 (155 MB/s) - ‘LOL_transformed_dataset_extended_withadded_attributes.csv’ saved [7575275/7575275]\n",
            "\n"
          ]
        }
      ]
    },
    {
      "cell_type": "markdown",
      "source": [
        "#Load Dataset "
      ],
      "metadata": {
        "id": "1aSjF1avVanQ"
      }
    },
    {
      "cell_type": "markdown",
      "source": [
        "**Data Collection:**\n",
        "Dataset used is taken from \"https://oracleselixir.com/\"  where data about all the league of legends higher ranked games are stored.\n",
        "This dataset contains record of every game for a player in columns format so this dataset I have used for our recommendation engine for champions in my some other work . But for using it as a pre-game match prediction dataset we had to convert it into row format where each row contains data of a game played along with details of each player from both teams, their champion, there kills, deaths, assists etc.\n"
      ],
      "metadata": {
        "id": "B87v1z8rVjTU"
      }
    },
    {
      "cell_type": "markdown",
      "source": [
        "**Dataset For Pre-match Game Prediction:**\\\n",
        "This Dataset contains information about 7425 professional games. Each row is a unique game and having lots of features .\\\n",
        "Column “Result” is the target, and 1 means blue win while 0 means red win."
      ],
      "metadata": {
        "id": "ZDD_pVIkWef3"
      }
    },
    {
      "cell_type": "code",
      "source": [
        "df = (spark\n",
        "  .read                                              \n",
        "  .option(\"inferSchema\",\"true\")                 \n",
        "  .option(\"header\",\"true\")                           \n",
        "  .csv(\"/content/LOL_transformed_dataset_extended_withadded_attributes.csv\"))"
      ],
      "metadata": {
        "id": "f4ZNilRECyoK"
      },
      "execution_count": 11,
      "outputs": []
    },
    {
      "cell_type": "markdown",
      "source": [
        "#Features:\n",
        "Overall, we have 128 features.\n",
        "The various features of the dataset are explained below:\n",
        "\n",
        "•\tGame: Game ID\\\n",
        "•\tTeam ID:Name of the Team.\\\n",
        "•\tbluetop_playerid:ID generated by game for a player in blue team at top position\\\n",
        "•\tBluetop_playername:Name of the player in blue team at top position\\\n",
        "•\tbluetop_champion: Name of the champion picked by the player in blue team at top position.\\\n",
        "•\tbluetop_Game_played: Number of games played with the champion picked by the player in blue team at top position.\\\n",
        "•\tbluetop_champ_win_rate: Win rate percentage of the player with a champion picked in blue team at top position.\\\n",
        "•\tbluetop_KDA: The Kill Death Assist (KDA) percentage of the player with a champion picked etc.\\\n",
        "•\tbluetop_dmg_to_cham: Amount of damage to opposite team champions of the player with a champion etc.\\\n",
        "•\tbluetop_goldearned: Amount of gold earned by blue top player\\\n",
        "•\tbluetop_monsterkillsownjungle: The no. of monster kills in own jungle by blue top player\\\n",
        "•\tbluetop_monsterkillsenemyjungle: The no. of monster kills in enemy jungle\\\n",
        "•\tbluetop_goldat10: Amount of gold earned after reaching level 10 by blue top player.\\\n",
        "\n",
        "The above-mentioned features have the same meaning for blue (jng, mid, bot, sup) and \n",
        "Red (top, jng, mid, bot, sup)\n",
        "\n",
        "•\tRed_team_kills:  No. of kills by red team\\\n",
        "•\tRed_team_deaths: No. of deaths by red team\\\n",
        "•\tblue_ban1: Name of champion banned by blue team in first priority\\\n",
        "•\tblue_ban2: Name of champion banned by blue team in second priority \\\n",
        "•\tblue_ban3: Name of champion banned by blue team in third priority \\\n",
        "•\tblue_ban4: Name of champion banned by blue team in fourth priority \\\n",
        "•\tblue_ban5: Name of champion banned by blue team in fifth priority\\\n",
        "•\tred_ban1:  Name of champion banned by red team in first priority\\\n",
        "•\tred_ban2:  Name of champion banned by red team in second priority\\\n",
        "•\tred_ban3:  Name of champion banned by red team in third priority \\\n",
        "•\tred_ban4:  Name of champion banned by red team in fourth priority\\\n",
        "•\tred_ban5:  Name of champion banned by red team in fifth priority\\\n"
      ],
      "metadata": {
        "id": "eFC6aKYlViaI"
      }
    },
    {
      "cell_type": "code",
      "source": [
        "df.show()"
      ],
      "metadata": {
        "colab": {
          "base_uri": "https://localhost:8080/"
        },
        "id": "kRVc9sgW9RYE",
        "outputId": "0099ca4f-bceb-4bb7-f55e-74eb990fbefc"
      },
      "execution_count": 12,
      "outputs": [
        {
          "output_type": "stream",
          "name": "stdout",
          "text": [
            "+--------------------+--------------------+--------------------+-------------------+----------------+-------------------+----------------------+-----------+-------------------+------------------+-----------------------------+-------------------------------+----------------+--------------------+------------------+----------------+-------------------+----------------------+-----------+-------------------+------------------+-----------------------------+-------------------------------+----------------+--------------------+------------------+----------------+-------------------+----------------------+-----------+-------------------+------------------+-----------------------------+-------------------------------+----------------+--------------------+------------------+----------------+-------------------+----------------------+-----------+-------------------+------------------+-----------------------------+-------------------------------+----------------+--------------------+------------------+----------------+-------------------+----------------------+-----------+-------------------+------------------+-----------------------------+-------------------------------+----------------+---------------+----------------+--------------------+--------------------+-----------------+---------------+------------------+---------------------+-----------+------------------+-----------------+----------------------------+------------------------------+---------------+--------------------+-----------------+---------------+------------------+---------------------+-----------+------------------+-----------------+----------------------------+------------------------------+---------------+--------------------+-----------------+---------------+------------------+---------------------+----------+------------------+-----------------+----------------------------+------------------------------+---------------+--------------------+-----------------+---------------+------------------+---------------------+-----------+------------------+-----------------+----------------------------+------------------------------+---------------+--------------------+-----------------+---------------+------------------+---------------------+-----------+------------------+-----------------+----------------------------+------------------------------+---------------+--------------+---------------+---------+---------+---------+------------+------------+--------+--------+---------+--------+---------+-------+\n",
            "|              Gameid|        Blue_Team_id|    bluetop_playerid|bluetop_player_name|bluetop_champion|bluetop_Game_played|bluetop_champ_win_rate|bluetop_KDA|bluetop_dmg_to_cham|bluetop_goldearned|bluetop_monsterkillsownjungle|bluetop_monsterkillsenemyjungle|bluetop_goldat10|    bluejng_playerid|bluejng_playername|bluejng_champion|bluejng_Game_played|bluejng_champ_win_rate|bluejng_KDA|bluejng_dmg_to_cham|bluejng_goldearned|bluejng_monsterkillsownjungle|bluejng_monsterkillsenemyjungle|bluejng_goldat10|    bluemid_playerid|bluemid_playername|bluemid_champion|bluemid_Game_played|bluemid_champ_win_rate|bluemid_KDA|bluemid_dmg_to_cham|bluemid_goldearned|bluemid_monsterkillsownjungle|bluemid_monsterkillsenemyjungle|bluemid_goldat10|    bluebot_playerid|bluebot_playername|bluebot_champion|bluebot_Game_played|bluebot_champ_win_rate|bluebot_KDA|bluebot_dmg_to_cham|bluebot_goldearned|bluebot_monsterkillsownjungle|bluebot_monsterkillsenemyjungle|bluebot_goldat10|    bluesup_playerid|bluesup_playername|bluesup_champion|bluesup_Game_played|bluesup_champ_win_rate|bluesup_KDA|bluesup_dmg_to_cham|bluesup_goldearned|bluesup_monsterkillsownjungle|bluesup_monsterkillsenemyjungle|bluesup_goldat10|Blue_team_kills|Blue_team_deaths|         Red_team_id|     redtop_playerid|redtop_playername|redtop_champion|redtop_Game_played|redtop_champ_win_rate| redtop_KDA|redtop_dmg_to_cham|redtop_goldearned|redtop_monsterkillsownjungle|redtop_monsterkillsenemyjungle|redtop_goldat10|     redjng_playerid|redjng_playername|redjng_champion|redjng_Game_played|redjng_champ_win_rate| redjng_KDA|redjng_dmg_to_cham|redjng_goldearned|redjng_monsterkillsownjungle|redjng_monsterkillsenemyjungle|redjng_goldat10|     redmid_playerid|redmid_playername|redmid_champion|redmid_Game_played|redmid_champ_win_rate|redmid_KDA|redmid_dmg_to_cham|redmid_goldearned|redmid_monsterkillsownjungle|redmid_monsterkillsenemyjungle|redmid_goldat10|     redbot_playerid|redbot_playername|redbot_champion|redbot_Game_played|redbot_champ_win_rate| redbot_KDA|redbot_dmg_to_cham|redbot_goldearned|redbot_monsterkillsownjungle|redbot_monsterkillsenemyjungle|redbot_goldat10|     redsup_playerid|redsup_playername|redsup_champion|redsup_Game_played|redsup_champ_win_rate| redsup_KDA|redsup_dmg_to_cham|redsup_goldearned|redsup_monsterkillsownjungle|redsup_monsterkillsenemyjungle|redsup_goldat10|Red_team_kills|Red_team_deaths|blue_ban1|blue_ban2|blue_ban3|   blue_ban4|   blue_ban5|red_ban1|red_ban2| red_ban3|red_ban4| red_ban5|Results|\n",
            "+--------------------+--------------------+--------------------+-------------------+----------------+-------------------+----------------------+-----------+-------------------+------------------+-----------------------------+-------------------------------+----------------+--------------------+------------------+----------------+-------------------+----------------------+-----------+-------------------+------------------+-----------------------------+-------------------------------+----------------+--------------------+------------------+----------------+-------------------+----------------------+-----------+-------------------+------------------+-----------------------------+-------------------------------+----------------+--------------------+------------------+----------------+-------------------+----------------------+-----------+-------------------+------------------+-----------------------------+-------------------------------+----------------+--------------------+------------------+----------------+-------------------+----------------------+-----------+-------------------+------------------+-----------------------------+-------------------------------+----------------+---------------+----------------+--------------------+--------------------+-----------------+---------------+------------------+---------------------+-----------+------------------+-----------------+----------------------------+------------------------------+---------------+--------------------+-----------------+---------------+------------------+---------------------+-----------+------------------+-----------------+----------------------------+------------------------------+---------------+--------------------+-----------------+---------------+------------------+---------------------+----------+------------------+-----------------+----------------------------+------------------------------+---------------+--------------------+-----------------+---------------+------------------+---------------------+-----------+------------------+-----------------+----------------------------+------------------------------+---------------+--------------------+-----------------+---------------+------------------+---------------------+-----------+------------------+-----------------+----------------------------+------------------------------+---------------+--------------+---------------+---------+---------+---------+------------+------------+--------+--------+---------+--------+---------+-------+\n",
            "|ESPORTSTMNT03/163...|             DWG KIA|oe:player:b9972f4...|               Khan|     Mordekaiser|                  1|                   1.0|       10.0|              20435|             12065|                            8|                              5|            3421|oe:player:92544d7...|            Canyon|          Graves|                  5|                   1.0|       12.0|              13944|             13944|                          110|                             43|            3497|oe:player:5f8ff49...|         ShowMaker|             Zoe|                  9|           0.888888889|       14.0|              16039|             14274|                           17|                             24|            3784|oe:player:78081d0...|             Ghost|    Miss Fortune|                  1|                   1.0|        7.0|              17202|             13097|                           17|                              4|            3540|oe:player:dee5412...|             BeryL|           Galio|                  2|                   0.5|       16.0|               6348|              7773|                            0|                              0|            2049|             23|               4|   Nongshim RedForce|oe:player:6fbf57b...|             Rich|           Ornn|                 3|          0.666666667|        0.4|              8804|             8863|                           0|                             0|           2985|oe:player:dda4a87...|           Peanut|        Kindred|                 3|          0.666666667|0.285714286|              3740|             8582|                          91|                             3|           3055|oe:player:0582fab...|              Bay|        Orianna|                 8|                0.875|       0.5|              5502|            11465|                           0|                             0|           3301|oe:player:18bdb38...|          deokdam|         Ezreal|                 5|                  0.8|        0.4|             13126|             9815|                           5|                             0|           3020|oe:player:b0ec3df...|           Kellin|          Leona|                10|                  0.5|        0.4|              2349|             5921|                           0|                             0|           2137|             4|             24|   Aatrox|   Kai'Sa| Pantheon|    Aphelios|      Lucian|   Akali|  Samira|  Taliyah|  Gragas|   Maokai|      1|\n",
            "|ESPORTSTMNT03/163...|   Nongshim RedForce|oe:player:6fbf57b...|               Rich|          Gragas|                  8|                 0.375|        2.0|              12968|              9201|                            0|                              0|            3183|oe:player:dda4a87...|            Peanut|          Graves|                  8|                   0.5|1.333333333|               7175|             10362|                          140|                              2|            3357|oe:player:0582fab...|               Bay|          Rumble|                  1|                   0.0|        1.0|               7880|             10058|                            0|                              0|            3338|oe:player:18bdb38...|           deokdam|          Kai'Sa|                  6|           0.333333333|        2.5|              11921|             10725|                            9|                              0|            3630|oe:player:b0ec3df...|            Kellin|         Alistar|                 10|                   0.3|        1.0|               3521|              6838|                            0|                              0|            2115|              7|              18|             DWG KIA|oe:player:b9972f4...|             Khan|           Ornn|                 2|                  0.0|        4.5|             14548|             9579|                           0|                             0|           2848|oe:player:92544d7...|           Canyon|           Olaf|                 2|                  0.5|       12.0|             12666|            11072|                         111|                            12|           3241|oe:player:5f8ff49...|        ShowMaker|         Syndra|                10|                  0.3|      14.0|             24597|            14009|                          24|                             0|           3610|oe:player:78081d0...|            Ghost|   Miss Fortune|                 2|                  0.0|        7.0|             17202|            13644|                          16|                             4|           3161|oe:player:dee5412...|            BeryL|          Galio|                 5|                  0.2|        6.5|              7644|             7184|                           0|                             0|           2004|            18|              7|    Akali|  Taliyah|      Zoe|       Leona|       Sylas|  Aatrox|Pantheon|   Samira|    Ekko|  Orianna|      0|\n",
            "|ESPORTSTMNT03/163...|   Nongshim RedForce|oe:player:6fbf57b...|               Rich|          Gragas|                  8|                 0.375|        2.0|              10139|              8821|                            1|                              0|            3110|oe:player:dda4a87...|            Peanut|          Graves|                  8|                   0.5|       1.25|              10554|             10125|                           87|                              1|            3330|oe:player:0582fab...|               Bay|             Zoe|                  3|           0.333333333|       0.75|               8790|              8353|                            8|                              0|            2971|oe:player:18bdb38...|           deokdam|           Yasuo|                  1|                   0.0|        1.2|               9915|             11475|                            9|                              0|            3063|oe:player:b0ec3df...|            Kellin|         Alistar|                 10|                   0.3|        1.5|               3682|              6792|                            0|                              0|            2569|             10|              20|             DWG KIA|oe:player:b9972f4...|             Khan|         Rumble|                 4|                 0.25|       3.75|             22925|             9429|                           1|                             1|           2440|oe:player:92544d7...|           Canyon|        Nidalee|                 7|          0.142857143|        3.0|             13102|            11533|                         106|                            31|           3730|oe:player:5f8ff49...|        ShowMaker|           Yone|                 1|                  0.0|      13.0|             17836|            13608|                          10|                             4|           3463|oe:player:78081d0...|            Ghost|   Miss Fortune|                 2|                  0.0|       16.0|             17250|            15082|                          21|                             0|           3268|oe:player:dee5412...|            BeryL|          Galio|                 5|                  0.2|        6.5|              7947|             7439|                           0|                             0|           2069|            20|             11|    Akali|  Taliyah|     Olaf|       Leona|    Renekton|  Aatrox|Pantheon|   Samira|  Kai'Sa|     Ornn|      0|\n",
            "|           6909-9183|         Top Esports|oe:player:0c74b7f...|                369|           Karma|                  1|                   0.0|        3.0|              18444|             10711|                            4|                              0|            3429|oe:player:f332265...|             Karsa|        Pantheon|                  2|                   0.0|        1.0|               8585|             10106|                          115|                              3|            3271|oe:player:ed29043...|            knight|          Syndra|                  6|                   0.5|        2.0|              13105|             13284|                           24|                             10|            3842|oe:player:c54e109...|        JackeyLove|          Samira|                  3|           0.333333333|        1.0|              20740|             13742|                           19|                              0|            3446|oe:player:e78da55...|              Zhuo|           Leona|                  2|                   0.5|       0.25|               2441|              6774|                            0|                              0|            2189|              3|               9|              Suning|oe:player:fb66ef5...|              Bin|         Aatrox|                 4|                 0.75|        8.0|              7861|            13468|                          18|                             4|           3296|oe:player:a408b9f...|             SofM|        Nidalee|                 1|                  0.0|        7.0|             10724|            10867|                         122|                             8|           3437|oe:player:542b126...|            Angel|         Viktor|                 5|                  0.4|       8.0|             17497|            12602|                          18|                             0|           3324|oe:player:6d664d1...|         huanfeng|         Kai'Sa|                 9|                  0.0|        9.0|             18459|            16176|                          41|                             0|           3296|oe:player:90651eb...|               ON|          Galio|                 3|          0.333333333|        4.0|              3865|             7407|                           0|                             0|           2092|             9|              3|     Olaf| Renekton|      Zoe|Twisted Fate|     Orianna|  Graves|    Ornn|    Akali|  Kennen|    Jayce|      0|\n",
            "|           6909-9184|         Top Esports|oe:player:0c74b7f...|                369|             Jax|                  1|                   0.0|0.714285714|              12954|             14213|                           19|                              5|            3315|oe:player:f332265...|             Karsa|         Hecarim|                  5|                   0.4|1.833333333|              14604|             13537|                          112|                              1|            4194|oe:player:ed29043...|            knight|         Orianna|                  5|                   0.2|        3.0|              30516|             16077|                           33|                              1|            3367|oe:player:c54e109...|        JackeyLove|          Samira|                  3|           0.333333333|        1.5|              20218|             16900|                           17|                              8|            3767|oe:player:e78da55...|              Zhuo|         Alistar|                  2|                   0.0|        1.5|               6224|              8965|                            0|                              0|            2109|             16|              27|              Suning|oe:player:fb66ef5...|              Bin|        Camille|                 3|          0.666666667|7.666666667|             25712|            17428|                           8|                             0|           3254|oe:player:a408b9f...|             SofM|         Lillia|                 1|                  0.0|        2.0|             13548|            11654|                         106|                             0|           3401|oe:player:542b126...|            Angel|         Viktor|                 5|                  0.4|       8.5|             28284|            15091|                          45|                             0|           3152|oe:player:6d664d1...|         huanfeng|         Kai'Sa|                 9|                  0.0|       21.0|             18137|            18299|                          36|                            10|           3353|oe:player:90651eb...|               ON|         Maokai|                 1|                  0.0|        2.5|             11823|             7797|                           0|                             0|           2090|            27|             17|     Olaf|   Aatrox| Renekton|       Galio|       Leona|  Graves|    Ornn|    Akali|Pantheon|  Taliyah|      0|\n",
            "|           6910-9189|           Oh My God|oe:player:03c2e7e...|                New|         Camille|                  1|                   0.0|0.333333333|               8434|             11183|                           10|                              0|            3194|oe:player:3faae62...|               Aki|         Kindred|                  2|                   0.0|        1.5|               8951|              9329|                          125|                              7|            3279|oe:player:4668112...|             Steel|    Twisted Fate|                  2|                   0.0|        0.5|               6073|             11516|                           12|                              0|            3863|oe:player:0d33223...|              Eric|            Jhin|                  1|                   0.0|        3.0|               9017|             12685|                           16|                              0|            3320|oe:player:3f7ff4d...|              COLD|           Galio|                  1|                   0.0|        1.0|               4876|              6432|                            0|                              0|            2186|              4|              15|       EDward Gaming|oe:player:aad3806...|          Flandre|         Gragas|                 2|                  0.5|        6.0|              8457|            12196|                          12|                             0|           3080|oe:player:88bba31...|           Jiejie|           Olaf|                 2|                  0.5|       13.0|             11357|            11794|                         103|                             6|           3574|oe:player:71e79ef...|            Scout|        Orianna|                 8|                0.125|      10.0|             10151|            14590|                          24|                             4|           3404|oe:player:9573154...|            Viper|   Miss Fortune|                 1|                  0.0|       13.0|             21953|            14281|                          17|                             4|           3366|oe:player:bda7cc0...|            Meiko|          Leona|                 3|                  0.0|        9.0|              2789|             7877|                           0|                             0|           2388|            15|              4|   Syndra|      Zoe|    Akali|       Jayce|      Thresh|  Samira|  Kai'Sa| Pantheon|  Aatrox|     Ornn|      0|\n",
            "|           6910-9190|       EDward Gaming|oe:player:aad3806...|            Flandre|        Volibear|                  1|                   0.0|2.333333333|              19167|             12433|                            3|                              0|            3571|oe:player:88bba31...|            Jiejie|         Hecarim|                  4|                   0.5|1.333333333|               6337|              9851|                          118|                              0|            3071|oe:player:71e79ef...|             Scout|         Orianna|                  7|           0.714285714|       1.75|              19411|             12847|                           33|                              0|            3305|oe:player:9573154...|             Viper|          Samira|                  4|                   0.5|        1.0|               7784|             12136|                           16|                              0|            3102|oe:player:bda7cc0...|             Meiko|          Maokai|                  1|                   0.0|        1.0|              15738|              6991|                            0|                              0|            2037|              8|              18|           Oh My God|oe:player:03c2e7e...|              New|       Renekton|                 4|                  0.5|2.666666667|             17659|            12410|                           7|                             0|           3088|oe:player:3faae62...|              Aki|        Taliyah|                 3|          0.666666667|       13.0|             11061|            12214|                         126|                            16|           3347|oe:player:4668112...|            Steel|          Galio|                 7|          0.571428571|      15.0|             11545|            13559|                           3|                             0|           3533|oe:player:0d33223...|             Eric|         Kai'Sa|                12|                  0.5|        8.5|             20446|            16640|                          18|                             0|           3813|oe:player:3f7ff4d...|             COLD|        Alistar|                12|                  0.5|        7.5|              6293|             9795|                           0|                             0|           2608|            18|              8|   Aatrox| Pantheon|     Ornn|        Yone|      Lucian|  Syndra|   Akali|     Olaf|   Leona|   Gragas|      0|\n",
            "|           6910-9191|           Oh My God|oe:player:03c2e7e...|                New|          Kennen|                  1|                   0.0|        1.0|              21011|             13583|                            3|                              0|            3486|oe:player:3faae62...|               Aki|          Graves|                  1|                   0.0|        4.0|              12612|             12286|                          118|                             17|            3661|oe:player:4668112...|             Steel|             Zoe|                  1|                   0.0|        3.0|              16415|             11570|                           29|                              0|            3683|oe:player:0d33223...|              Eric|    Miss Fortune|                  1|                   0.0|        1.5|               9194|             13329|                           30|                              0|            3148|oe:player:3f7ff4d...|              COLD|          Thresh|                  2|                   0.5|        1.0|               2241|              7121|                            0|                              0|            2236|              8|              16|       EDward Gaming|oe:player:aad3806...|          Flandre|         Aatrox|                 1|                  0.0|3.666666667|             15548|            15230|                           5|                             0|           3393|oe:player:88bba31...|           Jiejie|       Pantheon|                 1|                  0.0|3.333333333|              5686|            11869|                         104|                             2|           3357|oe:player:71e79ef...|            Scout|        Orianna|                 8|                0.125|      11.0|             13313|            14988|                          38|                             7|           3494|oe:player:9573154...|            Viper|           Jhin|                 1|                  0.0|       10.0|             14077|            16934|                          35|                             1|           3369|oe:player:bda7cc0...|            Meiko|         Maokai|                 2|                  0.0|       12.0|             11240|             8726|                           0|                             0|           2278|            16|              8|   Syndra|    Akali|     Olaf|       Leona|        Sett|  Samira| Taliyah|   Kai'Sa| Alistar| Renekton|      0|\n",
            "|      NA1/3735059392|    Not Academy Team|oe:player:5385f74...|             Dhokla|          Kennen|                  1|                   1.0|3.333333333|              21411|             15073|                            5|                              2|            4147|oe:player:d64c37a...|           Winston|          Graves|                  6|           0.833333333|        4.5|              14277|             14147|                          124|                             25|            3507|oe:player:cc3a241...|           Tuesday|           Akali|                  3|                   1.0|2.333333333|              14780|             13045|                            8|                              0|            2888|oe:player:3caf8d2...|            Apollo|          Kai'Sa|                  8|                  0.75|        8.0|              12338|             15458|                           20|                              2|            3307|oe:player:6841f2d...|            Zeyzal|         Alistar|                  2|                   1.0|2.666666667|               4146|              8137|                            0|                              0|            1988|             13|              12|         ANEW Rising|oe:player:8b7b362...|             Chim|          Sylas|                 3|          0.333333333|        1.2|             21697|            14089|                          10|                             0|           2674|oe:player:dfabf60...|            Hyami|        Kindred|                 2|                  1.0|       2.25|             20155|            12654|                         149|                            13|           2930|oe:player:1c275be...|         RobbyBob|           Lulu|                 1|                  1.0|       3.5|             10395|            10006|                           0|                             0|           2863|oe:player:8a25863...|             Kyle|           Jhin|                 8|                 0.75|        7.0|             13474|            15309|                           9|                             4|           3509|oe:player:59ab87a...|             John|           Shen|                 1|                  1.0|       10.0|              4505|             8859|                           0|                             0|           2115|            12|             13|   Lucian|   Gragas|  Taliyah|      Syndra|       Galio|    Olaf|Pantheon|Seraphine|  Aatrox|   Thresh|      1|\n",
            "|      NA1/3735089393|Super Sunshine Fr...|oe:player:1a336dc...|               Aizo|            Ornn|                  1|                   0.0|        1.0|               9352|              9141|                            0|                              0|            3634|oe:player:b85145a...|             alter|         Kindred|                  2|                   0.5|       1.25|               7994|              9085|                           99|                              5|            3459|oe:player:57bb48f...|             rovex|            Fizz|                  1|                   0.0|        0.8|               7372|              8254|                            0|                              0|            2590|oe:player:1ab827e...|           BukZacH|            Jhin|                  3|           0.333333333|0.714285714|              10070|              7375|                            0|                              0|            3032|oe:player:a9db415...|             Cat 2|           Galio|                  3|           0.333333333|0.545454545|               5598|              5380|                            0|                              0|            2085|             10|              33|Mirage Sport ����...|oe:player:184d97e...|          Dragoon|         Gragas|                 2|                  0.5|        5.5|              9268|             9587|                           0|                             0|           2778|oe:player:fcaf8d6...|             Will|         Graves|                 3|                  0.0|       20.0|             15192|            13347|                         106|                            17|           4544|oe:player:396c983...|              DNA|         Syndra|                11|          0.636363636|       7.0|             14781|            11610|                          12|                             0|           4077|oe:player:4db47d6...|            Meech|         Kai'Sa|                 9|          0.111111111|7.666666667|             18783|            12289|                           0|                             5|           4332|oe:player:29b67a9...|           Trevor|       Nautilus|                 1|                  0.0|7.666666667|              5237|             7248|                           0|                             0|           2569|            33|             10|   Darius|   Thresh|  Camille|      Aatrox|        Sett|  Lucian|   Leona| Pantheon|    Ekko|    Akali|      0|\n",
            "|      NA1/3734939626|      Cloud9 Amateur|oe:player:1727f71...|           Lxwrence|            Ornn|                  4|                   0.0|0.666666667|               9271|              7789|                            1|                              0|            2995|oe:player:08936c5...|              eXyu|            Olaf|                  7|           0.428571429|0.833333333|              13042|              8710|                           85|                              4|            3427|oe:player:df4f911...|        CptShrimps|          Rumble|                  6|           0.333333333|0.714285714|              13887|              9337|                            9|                              0|            3235|oe:player:713fae3...|             Wixxi|          Samira|                  2|                   0.0|        0.5|               5509|             10331|                            8|                              0|            3753|oe:player:aa3fd38...|            Tempos|           Braum|                  3|           0.333333333|        0.6|               4547|              6017|                            0|                              0|            2272|              6|              28|           Supernova|oe:player:6415f59...|           Cavele|          Fiora|                 1|                  0.0|       21.0|              8551|            11093|                           4|                            12|           2606|oe:player:ec41c69...|            Matty|         Lillia|                 9|          0.444444444|       26.0|             22051|            13749|                          97|                            13|           3853|oe:player:9e4cab8...|        Strompest|           Ryze|                12|                  0.5|       9.5|             14904|            13504|                          33|                             4|           3456|oe:player:4410ec3...|            Array|         Kai'Sa|                17|          0.411764706|        9.0|             12519|            12168|                           9|                             4|           3132|oe:player:2f8d775...|           Gbunny|         Maokai|                 3|          0.333333333|       20.0|             14234|             7505|                           0|                             0|           2059|            28|              6|    Akali|    Galio| Pantheon|      Lucian|     Camille|  Zilean|  Graves|Seraphine|  Irelia|      Zoe|      0|\n",
            "|      NA1/3737099763|          ANEW Blaze|oe:player:fa81678...|            Allorim|          Aatrox|                  5|                   0.6|        7.0|              17610|             11980|                            3|                             10|            3383|oe:player:92dcc8f...|             Leenk|         Karthus|                  2|                   1.0|        5.0|              22522|             12041|                          113|                             28|            3984|oe:player:05a7386...|         DARKWINGS|          Lucian|                  2|                   0.5|        3.0|              10060|             10615|                            8|                              1|            3179|oe:player:086e614...|            Raheen|          Kai'Sa|                 19|           0.736842105|        9.0|               8553|             11039|                            8|                              4|            3996|oe:player:07d1c57...|            Pockus|        Pantheon|                  2|                   1.0|        6.0|              13292|              8974|                            0|                              0|            2836|             15|               7|          ConViction|oe:player:f440eb7...|           Faisal|           Ornn|                 1|                  1.0|        3.0|             10110|             7654|                           0|                             0|           2750|oe:player:6ef0ffa...|       Quydeptrai|        Hecarim|                 3|          0.666666667|1.666666667|              9587|             8232|                          90|                             4|           2890|oe:player:885b59e...|            LEO99|         Viktor|                 3|                  1.0|       2.0|             12038|             8757|                           4|                             0|           3024|oe:player:cc59536...|           Sketch|         Samira|                 1|                  1.0|        1.0|              8854|             9143|                           0|                             0|           3090|oe:player:e635411...|           SkyTec|         Maokai|                 2|                  0.5|0.571428571|              9016|             6392|                           0|                             0|           2264|             7|             15|  Camille|Seraphine|   Gragas|       Galio|     Orianna|  Graves|    Olaf|     Shen| Alistar| Malphite|      1|\n",
            "|      NA1/3737119854|           Supernova|oe:player:6415f59...|             Cavele|          Gragas|                  5|                   0.4|1.166666667|              12948|              9785|                            1|                              0|            2615|oe:player:ec41c69...|             Matty|          Graves|                  7|           0.428571429|4.333333333|              19451|             13544|                          103|                             21|            3535|oe:player:9e4cab8...|         Strompest|         LeBlanc|                  2|                   0.0|2.166666667|              31060|             13578|                           24|                              2|            3834|oe:player:4410ec3...|             Array|          Kai'Sa|                  9|           0.666666667|       14.0|              27785|             14755|                           20|                              8|            3767|oe:player:2f8d775...|            Gbunny|           Leona|                  3|           0.666666667|        6.0|               3160|              8101|                            0|                              0|            2257|             19|              18|      Cloud9 Amateur|oe:player:1727f71...|         Lxwrence|       Renekton|                 6|          0.166666667|        2.0|             13380|            13016|                           1|                             2|           3168|oe:player:08936c5...|             eXyu|        Nidalee|                 9|          0.333333333|        5.0|             24455|            15297|                         128|                             5|           3877|oe:player:df4f911...|       CptShrimps|   Twisted Fate|                 6|          0.666666667|       3.0|             21385|            13760|                           9|                             4|           3523|oe:player:713fae3...|            Wixxi|         Lucian|                 3|                  0.0|        7.0|             18288|            15976|                          28|                             3|           3095|oe:player:aa3fd38...|           Tempos|        Alistar|                 2|                  0.0|1.833333333|              5179|             8719|                           0|                             0|           1943|            18|             20|   Zilean|  Hecarim| Pantheon|        Jhin|    Aphelios|    Olaf|   Galio|   Maokai|    Ryze|     Azir|      0|\n",
            "|      NA1/3735059696|         ANEW Rising|oe:player:8b7b362...|               Chim|            Ornn|                  2|                   1.0|       12.0|              11766|             12174|                            1|                              0|            3178|oe:player:dfabf60...|             Hyami|          Lillia|                  6|           0.666666667|       2.75|              12016|             11149|                          102|                              8|            3134|oe:player:1c275be...|          RobbyBob|        Pantheon|                  3|                   1.0|       12.0|              20702|             14048|                            0|                              0|            4042|oe:player:8a25863...|              Kyle|          Lucian|                  2|                   1.0|       13.0|              22651|             18280|                           28|                              5|            3791|oe:player:59ab87a...|              John|          Maokai|                  3|                   1.0|       10.0|              19171|              9116|                            0|                              0|            2129|             19|               7|    Not Academy Team|oe:player:5385f74...|           Dhokla|         Gragas|                 9|          0.333333333|0.285714286|             20364|            10151|                           0|                             0|           3188|oe:player:d64c37a...|          Winston|        Hecarim|                 4|                  0.5|        0.6|              6597|            10281|                         110|                            12|           3495|oe:player:cc3a241...|          Tuesday|         Viktor|                 7|          0.571428571|       0.8|             19476|            13525|                          35|                             0|           3124|oe:player:3caf8d2...|           Apollo|         Kai'Sa|                 2|                  1.0|        5.0|              6280|            13215|                          32|                             0|           3153|oe:player:6841f2d...|           Zeyzal|        Alistar|                 5|                  0.4|        2.0|              3768|             6706|                           0|                             0|           1948|             7|             19|     Olaf|Seraphine|    Leona|      Syndra|     Camille|   Akali|    Shen|   Graves|  Aatrox| Renekton|      1|\n",
            "|      NA1/3735089630|Mirage Sport ����...|oe:player:184d97e...|            Dragoon|          Gragas|                  1|                   0.0|        3.0|              16221|              8157|                            0|                              0|            3341|oe:player:fcaf8d6...|              Will|          Graves|                  2|                   0.0|        2.5|               9423|              8492|                           95|                             11|            3276|oe:player:396c983...|               DNA|          Anivia|                  3|           0.333333333|        0.5|               5119|              7807|                            9|                              0|            3254|oe:player:4db47d6...|             Meech|    Miss Fortune|                  1|                   0.0|        1.0|               8709|              6888|                            1|                              0|            2814|oe:player:29b67a9...|            Trevor|            Sett|                  1|                   0.0|0.666666667|               6552|              4937|                            0|                              0|            1825|              7|              17|Super Sunshine Fr...|oe:player:1a336dc...|             Aizo|         Aatrox|                 4|                  0.5|        1.0|             10727|             7957|                           0|                             0|           2683|oe:player:b85145a...|            alter|        Nidalee|                 5|                  0.4|       13.0|             15987|            10747|                          94|                            21|           3720|oe:player:57bb48f...|            rovex|         Viktor|                 2|                  0.5|       9.0|             11039|             9591|                           8|                             0|           3255|oe:player:1ab827e...|          BukZacH|         Kai'Sa|                 1|                  0.0|        6.0|              9234|            10558|                           4|                             0|           4139|oe:player:a9db415...|            Cat 2|          Galio|                 2|                  0.5|        5.0|              6273|             5681|                           0|                             0|           2348|            17|              7|    Akali|   Lucian|    Leona|    Pantheon|         Zed|  Darius|  Thresh|   Syndra| Orianna|Seraphine|      0|\n",
            "|      NA1/3737099991|          ConViction|oe:player:f440eb7...|             Faisal|       Gangplank|                  4|                  0.75|       15.0|              14873|             13308|                            3|                              0|            3486|oe:player:6ef0ffa...|        Quydeptrai|          Graves|                  8|                  0.75|        9.0|               5959|             10120|                          125|                             16|            3394|oe:player:885b59e...|             LEO99|           Karma|                  3|           0.333333333|        6.0|               7197|              9240|                            0|                              0|            3177|oe:player:cc59536...|            Sketch|          Kai'Sa|                 15|                   0.4|       12.0|              10691|             14292|                           12|                              0|            3556|oe:player:e635411...|            SkyTec|           Leona|                  7|           0.571428571|       14.0|               3653|              7810|                            0|                              0|            2588|             15|               2|          ANEW Blaze|oe:player:fa81678...|          Allorim|           Lulu|                 2|                  1.0|0.666666667|              6155|             9030|                           0|                             0|           3157|oe:player:3838fc5...|       Siddywiddy|        Kindred|                 2|                  1.0|       0.25|              3166|            10077|                         103|                            18|           3377|oe:player:05a7386...|        DARKWINGS|   Twisted Fate|                 1|                  1.0|       1.0|              9764|            10428|                           4|                             4|           3655|oe:player:086e614...|           Raheen|       Aphelios|                 5|                  0.6|        0.5|              9237|            10103|                           9|                             0|           3747|oe:player:07d1c57...|           Pockus|          Braum|                 2|                  1.0|        1.0|              5182|             5925|                           0|                             0|           2156|             2|             15|  Karthus|     Olaf|   Lucian|      Samira|      Syndra|Pantheon|  Gragas|    Akali| Camille|  Orianna|      1|\n",
            "|      NA1/3737120121|      Cloud9 Amateur|oe:player:1727f71...|           Lxwrence|          Aatrox|                  5|                   0.6|        4.5|              16024|             11916|                            0|                              0|            3596|oe:player:08936c5...|              eXyu|            Olaf|                  7|           0.428571429|5.333333333|              20197|             12594|                           85|                             11|            4266|oe:player:df4f911...|        CptShrimps|         Orianna|                  4|                  0.25|       14.0|              11642|             11015|                           31|                              4|            3027|oe:player:713fae3...|             Wixxi|           Vayne|                  2|                   0.5|4.333333333|              11660|             11414|                            6|                              4|            3539|oe:player:aa3fd38...|            Tempos|           Leona|                  3|           0.333333333|        4.0|               4542|              7908|                            0|                              0|            2740|             20|              11|           Supernova|oe:player:6415f59...|           Cavele|         Wukong|                 3|          0.666666667|        1.0|             14650|             8745|                           5|                             0|           2883|oe:player:ec41c69...|            Matty|        Hecarim|                 8|                0.625|1.166666667|              8940|             8495|                          91|                             4|           3568|oe:player:9e4cab8...|        Strompest|           Ryze|                12|                  0.5|       2.0|             18085|            11227|                          29|                             8|           3892|oe:player:4410ec3...|            Array|         Kai'Sa|                17|          0.411764706|1.666666667|             13960|            10153|                           8|                             0|           3233|oe:player:2f8d775...|           Gbunny|        Alistar|                 2|                  1.0|        3.0|              4217|             6076|                           0|                             0|           2407|            11|             20|   Maokai|    Galio|   Lillia|     Camille|        Ornn|  Zilean|  Graves| Pantheon|Aphelios|    Sylas|      1|\n",
            "|      NA1/3737140122|Super Sunshine Fr...|oe:player:1a336dc...|               Aizo|          Aatrox|                  5|                   0.6|        0.5|               6698|              8578|                            0|                              0|            3571|oe:player:b85145a...|             alter|          Lillia|                  1|                   0.0|        7.0|              13002|             10735|                          125|                              8|            3676|oe:player:57bb48f...|             rovex|          Viktor|                  4|                   0.5|0.333333333|               9773|              7712|                            1|                              0|            2984|oe:player:1ab827e...|           BukZacH|          Kai'Sa|                  4|                  0.75|0.571428571|               7859|              8345|                            1|                              0|            3545|oe:player:a9db415...|             Cat 2|          Maokai|                  1|                   0.0|      0.625|              10727|              6353|                            0|                              0|            2120|              7|              26|Mirage Sport ����...|oe:player:184d97e...|          Dragoon|           Ornn|                 4|                 0.25|        9.0|             12083|             8425|                           0|                             0|           2730|oe:player:fcaf8d6...|             Will|         Graves|                 3|                  0.0|        7.0|              9216|             9854|                          96|                            28|           3242|oe:player:396c983...|              DNA|        Orianna|                 7|          0.428571429|      15.0|             17093|            11195|                          13|                             0|           3471|oe:player:4db47d6...|            Meech|       Aphelios|                 8|                  0.5|       20.0|             26207|            15870|                          16|                             8|           4431|oe:player:29b67a9...|           Trevor|          Leona|                 6|          0.333333333|        6.0|              6503|             7417|                           0|                             0|           2512|            26|              7|   Darius|   Thresh|   Syndra|        Jhin|Miss Fortune|  Lucian|Pantheon|  Nidalee|    Yone|      Zed|      0|\n",
            "|      NA1/3737169983|    Not Academy Team|oe:player:5385f74...|             Dhokla|           Akali|                  1|                   1.0|        4.5|              17039|             11448|                            4|                              0|            3398|oe:player:d64c37a...|           Winston|          Graves|                  6|           0.833333333|        4.0|              10669|             12682|                          108|                             40|            3261|oe:player:cc3a241...|           Tuesday|          Anivia|                  1|                   1.0|        5.0|              19465|             12723|                           13|                              5|            3344|oe:player:3caf8d2...|            Apollo|    Miss Fortune|                  5|                   0.8|       11.0|              17700|             14528|                            4|                             12|            3285|oe:player:6841f2d...|            Zeyzal|          Maokai|                  1|                   1.0|       13.0|              10402|              7622|                            0|                              0|            2040|             17|               8|         ANEW Rising|oe:player:8b7b362...|             Chim|           Sion|                 3|          0.666666667|0.666666667|             10290|             8834|                           0|                             0|           3013|oe:player:dfabf60...|            Hyami|        Kindred|                 2|                  1.0|       1.75|             15047|            10849|                          88|                            15|           3052|oe:player:1c275be...|         RobbyBob|           Ekko|                 2|                  1.0|       1.5|              7397|             9870|                           4|                             0|           3168|oe:player:8a25863...|             Kyle|           Jhin|                 8|                 0.75|       1.25|              5666|            10560|                           8|                             0|           3456|oe:player:59ab87a...|             John|          Galio|                 5|                  0.6|       1.75|              5814|             6656|                           0|                             0|           2581|             8|             17|   Lucian|     Shen|  Taliyah|        Lulu|        Ornn|    Olaf|Pantheon|Seraphine|  Aatrox|  Camille|      1|\n",
            "|      NA1/3737100387|          ANEW Blaze|oe:player:fa81678...|            Allorim|          Aatrox|                  5|                   0.6|       14.0|              17520|             12029|                            0|                              4|            3418|oe:player:92dcc8f...|             Leenk|         Kha'Zix|                  1|                   1.0|       13.0|              14282|             10827|                           75|                             29|            4181|oe:player:05a7386...|         DARKWINGS|          Viktor|                  4|                  0.75|        8.0|              12921|             11308|                           20|                              0|            3737|oe:player:086e614...|            Raheen|            Jhin|                  7|           0.714285714|       12.0|               8263|             11050|                            5|                              0|            3319|oe:player:07d1c57...|            Pockus|        Pantheon|                  2|                   1.0|        3.0|               8039|              7353|                            4|                              0|            2229|             22|               6|          ConViction|oe:player:f440eb7...|           Faisal|         Irelia|                 1|                  1.0|        0.5|              8491|             8636|                           0|                             0|           3042|oe:player:6ef0ffa...|       Quydeptrai|         Graves|                 2|                  0.5|       0.75|              5309|             7838|                          99|                             5|           2941|oe:player:885b59e...|            LEO99|      Lissandra|                 1|                  1.0|       1.0|              7450|             8159|                           0|                             0|           2992|oe:player:cc59536...|           Sketch|         Kai'Sa|                 5|                  0.6|       0.75|             10133|             9513|                           4|                             0|           3557|oe:player:e635411...|           SkyTec|        Alistar|                 1|                  1.0|        1.0|              4163|             5380|                           0|                             0|           2176|             6|             22|   Gragas|  Camille|Seraphine|     Orianna|    Malphite| Karthus|    Olaf|   Samira|  Syndra|    Sylas|      1|\n",
            "+--------------------+--------------------+--------------------+-------------------+----------------+-------------------+----------------------+-----------+-------------------+------------------+-----------------------------+-------------------------------+----------------+--------------------+------------------+----------------+-------------------+----------------------+-----------+-------------------+------------------+-----------------------------+-------------------------------+----------------+--------------------+------------------+----------------+-------------------+----------------------+-----------+-------------------+------------------+-----------------------------+-------------------------------+----------------+--------------------+------------------+----------------+-------------------+----------------------+-----------+-------------------+------------------+-----------------------------+-------------------------------+----------------+--------------------+------------------+----------------+-------------------+----------------------+-----------+-------------------+------------------+-----------------------------+-------------------------------+----------------+---------------+----------------+--------------------+--------------------+-----------------+---------------+------------------+---------------------+-----------+------------------+-----------------+----------------------------+------------------------------+---------------+--------------------+-----------------+---------------+------------------+---------------------+-----------+------------------+-----------------+----------------------------+------------------------------+---------------+--------------------+-----------------+---------------+------------------+---------------------+----------+------------------+-----------------+----------------------------+------------------------------+---------------+--------------------+-----------------+---------------+------------------+---------------------+-----------+------------------+-----------------+----------------------------+------------------------------+---------------+--------------------+-----------------+---------------+------------------+---------------------+-----------+------------------+-----------------+----------------------------+------------------------------+---------------+--------------+---------------+---------+---------+---------+------------+------------+--------+--------+---------+--------+---------+-------+\n",
            "only showing top 20 rows\n",
            "\n"
          ]
        }
      ]
    },
    {
      "cell_type": "markdown",
      "source": [
        "Lets look at schema's"
      ],
      "metadata": {
        "id": "JG8fSK86XOlr"
      }
    },
    {
      "cell_type": "code",
      "source": [
        "df.printSchema()"
      ],
      "metadata": {
        "colab": {
          "base_uri": "https://localhost:8080/"
        },
        "id": "tBkwDIKx__vr",
        "outputId": "f8bda62f-2656-476b-9781-2425122df1e6"
      },
      "execution_count": null,
      "outputs": [
        {
          "output_type": "stream",
          "name": "stdout",
          "text": [
            "root\n",
            " |-- Gameid: string (nullable = true)\n",
            " |-- Blue_Team_id: string (nullable = true)\n",
            " |-- bluetop_playerid: string (nullable = true)\n",
            " |-- bluetop_player_name: string (nullable = true)\n",
            " |-- bluetop_champion: string (nullable = true)\n",
            " |-- bluetop_Game_played: integer (nullable = true)\n",
            " |-- bluetop_champ_win_rate: double (nullable = true)\n",
            " |-- bluetop_KDA: double (nullable = true)\n",
            " |-- bluetop_dmg_to_cham: integer (nullable = true)\n",
            " |-- bluetop_goldearned: integer (nullable = true)\n",
            " |-- bluetop_monsterkillsownjungle: integer (nullable = true)\n",
            " |-- bluetop_monsterkillsenemyjungle: integer (nullable = true)\n",
            " |-- bluetop_goldat10: integer (nullable = true)\n",
            " |-- bluejng_playerid: string (nullable = true)\n",
            " |-- bluejng_playername: string (nullable = true)\n",
            " |-- bluejng_champion: string (nullable = true)\n",
            " |-- bluejng_Game_played: integer (nullable = true)\n",
            " |-- bluejng_champ_win_rate: double (nullable = true)\n",
            " |-- bluejng_KDA: double (nullable = true)\n",
            " |-- bluejng_dmg_to_cham: integer (nullable = true)\n",
            " |-- bluejng_goldearned: integer (nullable = true)\n",
            " |-- bluejng_monsterkillsownjungle: integer (nullable = true)\n",
            " |-- bluejng_monsterkillsenemyjungle: integer (nullable = true)\n",
            " |-- bluejng_goldat10: integer (nullable = true)\n",
            " |-- bluemid_playerid: string (nullable = true)\n",
            " |-- bluemid_playername: string (nullable = true)\n",
            " |-- bluemid_champion: string (nullable = true)\n",
            " |-- bluemid_Game_played: integer (nullable = true)\n",
            " |-- bluemid_champ_win_rate: double (nullable = true)\n",
            " |-- bluemid_KDA: double (nullable = true)\n",
            " |-- bluemid_dmg_to_cham: integer (nullable = true)\n",
            " |-- bluemid_goldearned: integer (nullable = true)\n",
            " |-- bluemid_monsterkillsownjungle: integer (nullable = true)\n",
            " |-- bluemid_monsterkillsenemyjungle: integer (nullable = true)\n",
            " |-- bluemid_goldat10: integer (nullable = true)\n",
            " |-- bluebot_playerid: string (nullable = true)\n",
            " |-- bluebot_playername: string (nullable = true)\n",
            " |-- bluebot_champion: string (nullable = true)\n",
            " |-- bluebot_Game_played: integer (nullable = true)\n",
            " |-- bluebot_champ_win_rate: double (nullable = true)\n",
            " |-- bluebot_KDA: double (nullable = true)\n",
            " |-- bluebot_dmg_to_cham: integer (nullable = true)\n",
            " |-- bluebot_goldearned: integer (nullable = true)\n",
            " |-- bluebot_monsterkillsownjungle: integer (nullable = true)\n",
            " |-- bluebot_monsterkillsenemyjungle: integer (nullable = true)\n",
            " |-- bluebot_goldat10: integer (nullable = true)\n",
            " |-- bluesup_playerid: string (nullable = true)\n",
            " |-- bluesup_playername: string (nullable = true)\n",
            " |-- bluesup_champion: string (nullable = true)\n",
            " |-- bluesup_Game_played: integer (nullable = true)\n",
            " |-- bluesup_champ_win_rate: double (nullable = true)\n",
            " |-- bluesup_KDA: double (nullable = true)\n",
            " |-- bluesup_dmg_to_cham: integer (nullable = true)\n",
            " |-- bluesup_goldearned: integer (nullable = true)\n",
            " |-- bluesup_monsterkillsownjungle: integer (nullable = true)\n",
            " |-- bluesup_monsterkillsenemyjungle: integer (nullable = true)\n",
            " |-- bluesup_goldat10: integer (nullable = true)\n",
            " |-- Blue_team_kills: integer (nullable = true)\n",
            " |-- Blue_team_deaths: integer (nullable = true)\n",
            " |-- Red_team_id: string (nullable = true)\n",
            " |-- redtop_playerid: string (nullable = true)\n",
            " |-- redtop_playername: string (nullable = true)\n",
            " |-- redtop_champion: string (nullable = true)\n",
            " |-- redtop_Game_played: integer (nullable = true)\n",
            " |-- redtop_champ_win_rate: double (nullable = true)\n",
            " |-- redtop_KDA: double (nullable = true)\n",
            " |-- redtop_dmg_to_cham: integer (nullable = true)\n",
            " |-- redtop_goldearned: integer (nullable = true)\n",
            " |-- redtop_monsterkillsownjungle: integer (nullable = true)\n",
            " |-- redtop_monsterkillsenemyjungle: integer (nullable = true)\n",
            " |-- redtop_goldat10: integer (nullable = true)\n",
            " |-- redjng_playerid: string (nullable = true)\n",
            " |-- redjng_playername: string (nullable = true)\n",
            " |-- redjng_champion: string (nullable = true)\n",
            " |-- redjng_Game_played: integer (nullable = true)\n",
            " |-- redjng_champ_win_rate: double (nullable = true)\n",
            " |-- redjng_KDA: double (nullable = true)\n",
            " |-- redjng_dmg_to_cham: integer (nullable = true)\n",
            " |-- redjng_goldearned: integer (nullable = true)\n",
            " |-- redjng_monsterkillsownjungle: integer (nullable = true)\n",
            " |-- redjng_monsterkillsenemyjungle: integer (nullable = true)\n",
            " |-- redjng_goldat10: integer (nullable = true)\n",
            " |-- redmid_playerid: string (nullable = true)\n",
            " |-- redmid_playername: string (nullable = true)\n",
            " |-- redmid_champion: string (nullable = true)\n",
            " |-- redmid_Game_played: integer (nullable = true)\n",
            " |-- redmid_champ_win_rate: double (nullable = true)\n",
            " |-- redmid_KDA: double (nullable = true)\n",
            " |-- redmid_dmg_to_cham: integer (nullable = true)\n",
            " |-- redmid_goldearned: integer (nullable = true)\n",
            " |-- redmid_monsterkillsownjungle: integer (nullable = true)\n",
            " |-- redmid_monsterkillsenemyjungle: integer (nullable = true)\n",
            " |-- redmid_goldat10: integer (nullable = true)\n",
            " |-- redbot_playerid: string (nullable = true)\n",
            " |-- redbot_playername: string (nullable = true)\n",
            " |-- redbot_champion: string (nullable = true)\n",
            " |-- redbot_Game_played: integer (nullable = true)\n",
            " |-- redbot_champ_win_rate: double (nullable = true)\n",
            " |-- redbot_KDA: double (nullable = true)\n",
            " |-- redbot_dmg_to_cham: integer (nullable = true)\n",
            " |-- redbot_goldearned: integer (nullable = true)\n",
            " |-- redbot_monsterkillsownjungle: integer (nullable = true)\n",
            " |-- redbot_monsterkillsenemyjungle: integer (nullable = true)\n",
            " |-- redbot_goldat10: integer (nullable = true)\n",
            " |-- redsup_playerid: string (nullable = true)\n",
            " |-- redsup_playername: string (nullable = true)\n",
            " |-- redsup_champion: string (nullable = true)\n",
            " |-- redsup_Game_played: integer (nullable = true)\n",
            " |-- redsup_champ_win_rate: double (nullable = true)\n",
            " |-- redsup_KDA: double (nullable = true)\n",
            " |-- redsup_dmg_to_cham: integer (nullable = true)\n",
            " |-- redsup_goldearned: integer (nullable = true)\n",
            " |-- redsup_monsterkillsownjungle: integer (nullable = true)\n",
            " |-- redsup_monsterkillsenemyjungle: integer (nullable = true)\n",
            " |-- redsup_goldat10: integer (nullable = true)\n",
            " |-- Red_team_kills: integer (nullable = true)\n",
            " |-- Red_team_deaths: integer (nullable = true)\n",
            " |-- blue_ban1: string (nullable = true)\n",
            " |-- blue_ban2: string (nullable = true)\n",
            " |-- blue_ban3: string (nullable = true)\n",
            " |-- blue_ban4: string (nullable = true)\n",
            " |-- blue_ban5: string (nullable = true)\n",
            " |-- red_ban1: string (nullable = true)\n",
            " |-- red_ban2: string (nullable = true)\n",
            " |-- red_ban3: string (nullable = true)\n",
            " |-- red_ban4: string (nullable = true)\n",
            " |-- red_ban5: string (nullable = true)\n",
            " |-- Results: integer (nullable = true)\n",
            "\n"
          ]
        }
      ]
    },
    {
      "cell_type": "code",
      "source": [
        "type(df)"
      ],
      "metadata": {
        "colab": {
          "base_uri": "https://localhost:8080/"
        },
        "id": "IBI0mhnQAVcI",
        "outputId": "2350feaa-7117-4800-d934-53785e37b1e5"
      },
      "execution_count": null,
      "outputs": [
        {
          "output_type": "execute_result",
          "data": {
            "text/plain": [
              "pyspark.sql.dataframe.DataFrame"
            ]
          },
          "metadata": {},
          "execution_count": 20
        }
      ]
    },
    {
      "cell_type": "code",
      "source": [
        "#Import col,avg from pyspark\n",
        "from pyspark.sql.functions import col,avg\n"
      ],
      "metadata": {
        "id": "o0G92burVjzT"
      },
      "execution_count": 267,
      "outputs": []
    },
    {
      "cell_type": "markdown",
      "source": [
        "Count how many number of records are there."
      ],
      "metadata": {
        "id": "Jrrd0Xi5XZ__"
      }
    },
    {
      "cell_type": "code",
      "source": [
        "df.count()"
      ],
      "metadata": {
        "colab": {
          "base_uri": "https://localhost:8080/"
        },
        "id": "uSmSCf5HYbRR",
        "outputId": "d7a77491-1296-4e0a-8311-fd29792c86d4"
      },
      "execution_count": null,
      "outputs": [
        {
          "output_type": "execute_result",
          "data": {
            "text/plain": [
              "7425"
            ]
          },
          "metadata": {},
          "execution_count": 33
        }
      ]
    },
    {
      "cell_type": "markdown",
      "source": [
        "#Check the missings:\n"
      ],
      "metadata": {
        "id": "ZzF4op3dVpMd"
      }
    },
    {
      "cell_type": "code",
      "source": [
        "# where\n",
        "df.where(col(\"bluetop_playerid\").isNull()).count()\n",
        "# filter\n",
        "df.filter(col(\"bluetop_playerid\").isNull()).count()"
      ],
      "metadata": {
        "colab": {
          "base_uri": "https://localhost:8080/"
        },
        "id": "WXWC0eDPVFyq",
        "outputId": "892b1142-f5cc-4ae0-e968-5c17209cae25"
      },
      "execution_count": null,
      "outputs": [
        {
          "output_type": "execute_result",
          "data": {
            "text/plain": [
              "0"
            ]
          },
          "metadata": {},
          "execution_count": 28
        }
      ]
    },
    {
      "cell_type": "markdown",
      "source": [
        "*These two are the same. According to spark documentation, “where” is an alias of “filter”.*"
      ],
      "metadata": {
        "id": "KYQ53L9LVu3t"
      }
    },
    {
      "cell_type": "markdown",
      "source": [
        "#Exploratory Data Analysis"
      ],
      "metadata": {
        "id": "TA_5uyF-XhBB"
      }
    },
    {
      "cell_type": "code",
      "source": [
        "df.describe([\"bluetop_Game_played\"]).show()\n"
      ],
      "metadata": {
        "colab": {
          "base_uri": "https://localhost:8080/"
        },
        "id": "loQreh-nZRi-",
        "outputId": "dd09c248-35bd-42a9-da91-92747707cbf4"
      },
      "execution_count": null,
      "outputs": [
        {
          "output_type": "stream",
          "name": "stdout",
          "text": [
            "+-------+-------------------+\n",
            "|summary|bluetop_Game_played|\n",
            "+-------+-------------------+\n",
            "|  count|               7425|\n",
            "|   mean| 3.0894276094276094|\n",
            "| stddev|  2.484884803671767|\n",
            "|    min|                  1|\n",
            "|    max|                 17|\n",
            "+-------+-------------------+\n",
            "\n"
          ]
        }
      ]
    },
    {
      "cell_type": "code",
      "source": [
        "df.select('bluetop_Game_played').describe().show()\n"
      ],
      "metadata": {
        "colab": {
          "base_uri": "https://localhost:8080/"
        },
        "id": "-E6Pv2PFVRu2",
        "outputId": "b7bd3dfb-c5cd-4624-bfa1-6614b274b0d5"
      },
      "execution_count": null,
      "outputs": [
        {
          "output_type": "stream",
          "name": "stdout",
          "text": [
            "+-------+-------------------+\n",
            "|summary|bluetop_Game_played|\n",
            "+-------+-------------------+\n",
            "|  count|               7425|\n",
            "|   mean| 3.0894276094276094|\n",
            "| stddev|  2.484884803671767|\n",
            "|    min|                  1|\n",
            "|    max|                 17|\n",
            "+-------+-------------------+\n",
            "\n"
          ]
        }
      ]
    },
    {
      "cell_type": "code",
      "source": [
        "#Get first 10 unique values in \"bluetop_champion\" columns\n",
        "bluetop_champ_unique=df.select('bluetop_champion').distinct().rdd.map(lambda r: r[0]).collect()\n",
        "bluetop_champ_unique[:10]"
      ],
      "metadata": {
        "colab": {
          "base_uri": "https://localhost:8080/"
        },
        "id": "Jd8ntwElaRoQ",
        "outputId": "5ac93249-e635-453b-f895-1f7d635109ef"
      },
      "execution_count": null,
      "outputs": [
        {
          "output_type": "execute_result",
          "data": {
            "text/plain": [
              "['Gangplank',\n",
              " 'Kalista',\n",
              " 'Poppy',\n",
              " 'Pantheon',\n",
              " 'Urgot',\n",
              " 'Lucian',\n",
              " 'Azir',\n",
              " 'Aurelion Sol',\n",
              " 'Camille',\n",
              " 'Jayce']"
            ]
          },
          "metadata": {},
          "execution_count": 42
        }
      ]
    },
    {
      "cell_type": "code",
      "source": [
        "#Get first 10 unique values in \"bluemid_champion\" columns\n",
        "bluemid_champ_unique=df.select('bluemid_champion').distinct().rdd.map(lambda r: r[0]).collect()\n",
        "bluemid_champ_unique[:10]"
      ],
      "metadata": {
        "colab": {
          "base_uri": "https://localhost:8080/"
        },
        "id": "HPoun3QPbPLf",
        "outputId": "68f816d3-2264-4dc8-b37b-c484625aa966"
      },
      "execution_count": null,
      "outputs": [
        {
          "output_type": "execute_result",
          "data": {
            "text/plain": [
              "['Kalista',\n",
              " 'Gangplank',\n",
              " 'Ahri',\n",
              " 'Pantheon',\n",
              " 'Poppy',\n",
              " 'Katarina',\n",
              " 'Lucian',\n",
              " 'Azir',\n",
              " 'Aurelion Sol',\n",
              " 'Camille']"
            ]
          },
          "metadata": {},
          "execution_count": 43
        }
      ]
    },
    {
      "cell_type": "code",
      "source": [
        "#Get first 10 unique values in \"bluejng_champion\" columns\n",
        "bluejng_champ_unique=df.select('bluejng_champion').distinct().rdd.map(lambda r: r[0]).collect()\n",
        "bluejng_champ_unique[:10]"
      ],
      "metadata": {
        "colab": {
          "base_uri": "https://localhost:8080/"
        },
        "id": "dMa3SNU5cnkU",
        "outputId": "954efccb-fb88-462b-8c94-686282526565"
      },
      "execution_count": null,
      "outputs": [
        {
          "output_type": "execute_result",
          "data": {
            "text/plain": [
              "['Pantheon',\n",
              " 'Poppy',\n",
              " 'Elise',\n",
              " 'Vi',\n",
              " 'Jayce',\n",
              " 'Xin Zhao',\n",
              " 'Karthus',\n",
              " 'Olaf',\n",
              " \"Cho'Gath\",\n",
              " \"Kha'Zix\"]"
            ]
          },
          "metadata": {},
          "execution_count": 44
        }
      ]
    },
    {
      "cell_type": "code",
      "source": [
        "#Get first 10 unique values in \"blue_ban1\" columns\n",
        "blue_ban1_champ_unique=df.select('blue_ban1').distinct().rdd.map(lambda r: r[0]).collect()\n",
        "blue_ban1_champ_unique[:10]"
      ],
      "metadata": {
        "colab": {
          "base_uri": "https://localhost:8080/"
        },
        "id": "J5Y1rq59cywA",
        "outputId": "2d1d104c-7690-4462-f732-38d2adec2f6d"
      },
      "execution_count": null,
      "outputs": [
        {
          "output_type": "execute_result",
          "data": {
            "text/plain": [
              "['Gangplank',\n",
              " 'Kalista',\n",
              " 'Rell',\n",
              " 'Bard',\n",
              " 'Ahri',\n",
              " 'Pantheon',\n",
              " 'Poppy',\n",
              " 'Katarina',\n",
              " 'Elise',\n",
              " 'Lucian']"
            ]
          },
          "metadata": {},
          "execution_count": 47
        }
      ]
    },
    {
      "cell_type": "code",
      "source": [
        "#Get first 10 unique values in \"red_ban1\" columns\n",
        "red_ban1_champ_unique=df.select('red_ban1').distinct().rdd.map(lambda r: r[0]).collect()\n",
        "red_ban1_champ_unique[:10]"
      ],
      "metadata": {
        "colab": {
          "base_uri": "https://localhost:8080/",
          "height": 0
        },
        "id": "Q6ZWGfziftwk",
        "outputId": "77979578-12d0-491d-e1e9-1b400fbea677"
      },
      "execution_count": 48,
      "outputs": [
        {
          "output_type": "execute_result",
          "data": {
            "text/plain": [
              "['Gangplank',\n",
              " 'Kalista',\n",
              " 'Rell',\n",
              " 'Bard',\n",
              " 'Ahri',\n",
              " 'Pantheon',\n",
              " 'Poppy',\n",
              " 'Katarina',\n",
              " 'Elise',\n",
              " 'Lucian']"
            ]
          },
          "metadata": {},
          "execution_count": 48
        }
      ]
    },
    {
      "cell_type": "markdown",
      "source": [
        "Groupby a specific player and see which champions he picked and how many games he played."
      ],
      "metadata": {
        "id": "1_r3FhOIXs9i"
      }
    },
    {
      "cell_type": "code",
      "source": [
        "x=df.filter(df['bluetop_player_name']=='Khan')\n",
        "x.select(['bluetop_player_name','bluetop_champion','bluetop_Game_played']).show()"
      ],
      "metadata": {
        "colab": {
          "base_uri": "https://localhost:8080/",
          "height": 0
        },
        "id": "_rpgsp7Gf9dl",
        "outputId": "2ab29264-d71c-49f4-bc86-784c531140ea"
      },
      "execution_count": 59,
      "outputs": [
        {
          "output_type": "stream",
          "name": "stdout",
          "text": [
            "+-------------------+----------------+-------------------+\n",
            "|bluetop_player_name|bluetop_champion|bluetop_Game_played|\n",
            "+-------------------+----------------+-------------------+\n",
            "|               Khan|     Mordekaiser|                  1|\n",
            "|               Khan|        Volibear|                  1|\n",
            "|               Khan|            Gnar|                 11|\n",
            "|               Khan|            Gnar|                 11|\n",
            "|               Khan|            Gnar|                 11|\n",
            "|               Khan|        Renekton|                  3|\n",
            "|               Khan|            Gnar|                 11|\n",
            "|               Khan|            Ornn|                  5|\n",
            "|               Khan|           Quinn|                  1|\n",
            "|               Khan|            Sion|                 11|\n",
            "|               Khan|            Ornn|                  5|\n",
            "|               Khan|            Ornn|                  5|\n",
            "|               Khan|            Sion|                 11|\n",
            "|               Khan|            Sion|                 11|\n",
            "|               Khan|            Sion|                 11|\n",
            "|               Khan|            Sion|                 11|\n",
            "|               Khan|            Sion|                 11|\n",
            "|               Khan|            Sion|                 11|\n",
            "|               Khan|            Sion|                 11|\n",
            "|               Khan|            Gnar|                 11|\n",
            "+-------------------+----------------+-------------------+\n",
            "only showing top 20 rows\n",
            "\n"
          ]
        }
      ]
    },
    {
      "cell_type": "markdown",
      "source": [
        "Groupby 'bluetop_player_name\" and find total number of games played by them."
      ],
      "metadata": {
        "id": "Ti431B44X4O5"
      }
    },
    {
      "cell_type": "code",
      "source": [
        "df.groupBy(\"bluetop_player_name\").sum(\"redtop_Game_played\").show(truncate=False)\n"
      ],
      "metadata": {
        "colab": {
          "base_uri": "https://localhost:8080/",
          "height": 0
        },
        "id": "wjNI2ZT8imQb",
        "outputId": "e3fbaacb-7581-4b52-add2-1941706d9233"
      },
      "execution_count": 66,
      "outputs": [
        {
          "output_type": "stream",
          "name": "stdout",
          "text": [
            "+-------------------+-----------------------+\n",
            "|bluetop_player_name|sum(redtop_Game_played)|\n",
            "+-------------------+-----------------------+\n",
            "|Leaky              |87                     |\n",
            "|Roach              |44                     |\n",
            "|Fiv                |33                     |\n",
            "|Kubu               |18                     |\n",
            "|Aodi               |12                     |\n",
            "|NPer               |1                      |\n",
            "|Rich               |138                    |\n",
            "|Phoenix            |2                      |\n",
            "|Rifty              |11                     |\n",
            "|Bong               |40                     |\n",
            "|Cozy               |116                    |\n",
            "|Chasy              |22                     |\n",
            "|SH4DOW             |5                      |\n",
            "|Gabbo              |33                     |\n",
            "|Oncan              |45                     |\n",
            "|cc                 |15                     |\n",
            "|BakaPrase          |1                      |\n",
            "|BioPanther         |69                     |\n",
            "|SkyBart            |8                      |\n",
            "|Munian             |103                    |\n",
            "+-------------------+-----------------------+\n",
            "only showing top 20 rows\n",
            "\n"
          ]
        }
      ]
    },
    {
      "cell_type": "markdown",
      "source": [
        "Groupby \"bluejng_playername\" and find number of games won by him and arranged in ascending order of player name."
      ],
      "metadata": {
        "id": "4WugQha2YCzq"
      }
    },
    {
      "cell_type": "code",
      "source": [
        "df.groupBy(\"bluejng_playername\").sum(\"Results\").sort(col(\"bluejng_playername\"),ascending=True).show()"
      ],
      "metadata": {
        "colab": {
          "base_uri": "https://localhost:8080/",
          "height": 0
        },
        "id": "zzvFKhZimpdY",
        "outputId": "1af1b8c5-4a9f-4b70-edb1-a849938272f9"
      },
      "execution_count": 90,
      "outputs": [
        {
          "output_type": "stream",
          "name": "stdout",
          "text": [
            "+------------------+------------+\n",
            "|bluejng_playername|sum(Results)|\n",
            "+------------------+------------+\n",
            "|               113|           7|\n",
            "|             1Haru|           3|\n",
            "|            361efe|           2|\n",
            "|               909|           0|\n",
            "|              A266|           0|\n",
            "|           AGENTAS|           2|\n",
            "|          AHaHaCiK|           9|\n",
            "|             Accez|           7|\n",
            "|          Adricesa|           3|\n",
            "|              Adry|           4|\n",
            "|             Aegis|          12|\n",
            "|         Aesthetic|          13|\n",
            "|         Agonistic|           8|\n",
            "|  Agony and Misery|           1|\n",
            "|               Aix|           2|\n",
            "|          Akaadian|          14|\n",
            "|           Akabane|           8|\n",
            "|            Akalos|           1|\n",
            "|             Akano|           1|\n",
            "|               Aki|           2|\n",
            "+------------------+------------+\n",
            "only showing top 20 rows\n",
            "\n"
          ]
        }
      ]
    },
    {
      "cell_type": "markdown",
      "source": [
        "Evaluate how many records are present in which Blue team wins and blue team lost.\\\n",
        "1- Blueteam wins\n",
        "0- Red team wins"
      ],
      "metadata": {
        "id": "ggRkDbTKYTDh"
      }
    },
    {
      "cell_type": "code",
      "source": [
        "Blue_Win_loss_records = df.select(col(\"Results\").cast(\"string\")).groupBy(\"Results\").count().toPandas()"
      ],
      "metadata": {
        "id": "VkQHoimjWFpB"
      },
      "execution_count": 94,
      "outputs": []
    },
    {
      "cell_type": "code",
      "source": [
        "Blue_Win_loss_records"
      ],
      "metadata": {
        "colab": {
          "base_uri": "https://localhost:8080/",
          "height": 111
        },
        "id": "C7UcNvkLXagE",
        "outputId": "e51c2f51-b92b-42c9-9745-8b1c481cd742"
      },
      "execution_count": 95,
      "outputs": [
        {
          "output_type": "execute_result",
          "data": {
            "text/html": [
              "\n",
              "  <div id=\"df-9aa2eeaf-5492-40a6-aa85-17f9aabcfb48\">\n",
              "    <div class=\"colab-df-container\">\n",
              "      <div>\n",
              "<style scoped>\n",
              "    .dataframe tbody tr th:only-of-type {\n",
              "        vertical-align: middle;\n",
              "    }\n",
              "\n",
              "    .dataframe tbody tr th {\n",
              "        vertical-align: top;\n",
              "    }\n",
              "\n",
              "    .dataframe thead th {\n",
              "        text-align: right;\n",
              "    }\n",
              "</style>\n",
              "<table border=\"1\" class=\"dataframe\">\n",
              "  <thead>\n",
              "    <tr style=\"text-align: right;\">\n",
              "      <th></th>\n",
              "      <th>Results</th>\n",
              "      <th>count</th>\n",
              "    </tr>\n",
              "  </thead>\n",
              "  <tbody>\n",
              "    <tr>\n",
              "      <th>0</th>\n",
              "      <td>0</td>\n",
              "      <td>3464</td>\n",
              "    </tr>\n",
              "    <tr>\n",
              "      <th>1</th>\n",
              "      <td>1</td>\n",
              "      <td>3961</td>\n",
              "    </tr>\n",
              "  </tbody>\n",
              "</table>\n",
              "</div>\n",
              "      <button class=\"colab-df-convert\" onclick=\"convertToInteractive('df-9aa2eeaf-5492-40a6-aa85-17f9aabcfb48')\"\n",
              "              title=\"Convert this dataframe to an interactive table.\"\n",
              "              style=\"display:none;\">\n",
              "        \n",
              "  <svg xmlns=\"http://www.w3.org/2000/svg\" height=\"24px\"viewBox=\"0 0 24 24\"\n",
              "       width=\"24px\">\n",
              "    <path d=\"M0 0h24v24H0V0z\" fill=\"none\"/>\n",
              "    <path d=\"M18.56 5.44l.94 2.06.94-2.06 2.06-.94-2.06-.94-.94-2.06-.94 2.06-2.06.94zm-11 1L8.5 8.5l.94-2.06 2.06-.94-2.06-.94L8.5 2.5l-.94 2.06-2.06.94zm10 10l.94 2.06.94-2.06 2.06-.94-2.06-.94-.94-2.06-.94 2.06-2.06.94z\"/><path d=\"M17.41 7.96l-1.37-1.37c-.4-.4-.92-.59-1.43-.59-.52 0-1.04.2-1.43.59L10.3 9.45l-7.72 7.72c-.78.78-.78 2.05 0 2.83L4 21.41c.39.39.9.59 1.41.59.51 0 1.02-.2 1.41-.59l7.78-7.78 2.81-2.81c.8-.78.8-2.07 0-2.86zM5.41 20L4 18.59l7.72-7.72 1.47 1.35L5.41 20z\"/>\n",
              "  </svg>\n",
              "      </button>\n",
              "      \n",
              "  <style>\n",
              "    .colab-df-container {\n",
              "      display:flex;\n",
              "      flex-wrap:wrap;\n",
              "      gap: 12px;\n",
              "    }\n",
              "\n",
              "    .colab-df-convert {\n",
              "      background-color: #E8F0FE;\n",
              "      border: none;\n",
              "      border-radius: 50%;\n",
              "      cursor: pointer;\n",
              "      display: none;\n",
              "      fill: #1967D2;\n",
              "      height: 32px;\n",
              "      padding: 0 0 0 0;\n",
              "      width: 32px;\n",
              "    }\n",
              "\n",
              "    .colab-df-convert:hover {\n",
              "      background-color: #E2EBFA;\n",
              "      box-shadow: 0px 1px 2px rgba(60, 64, 67, 0.3), 0px 1px 3px 1px rgba(60, 64, 67, 0.15);\n",
              "      fill: #174EA6;\n",
              "    }\n",
              "\n",
              "    [theme=dark] .colab-df-convert {\n",
              "      background-color: #3B4455;\n",
              "      fill: #D2E3FC;\n",
              "    }\n",
              "\n",
              "    [theme=dark] .colab-df-convert:hover {\n",
              "      background-color: #434B5C;\n",
              "      box-shadow: 0px 1px 3px 1px rgba(0, 0, 0, 0.15);\n",
              "      filter: drop-shadow(0px 1px 2px rgba(0, 0, 0, 0.3));\n",
              "      fill: #FFFFFF;\n",
              "    }\n",
              "  </style>\n",
              "\n",
              "      <script>\n",
              "        const buttonEl =\n",
              "          document.querySelector('#df-9aa2eeaf-5492-40a6-aa85-17f9aabcfb48 button.colab-df-convert');\n",
              "        buttonEl.style.display =\n",
              "          google.colab.kernel.accessAllowed ? 'block' : 'none';\n",
              "\n",
              "        async function convertToInteractive(key) {\n",
              "          const element = document.querySelector('#df-9aa2eeaf-5492-40a6-aa85-17f9aabcfb48');\n",
              "          const dataTable =\n",
              "            await google.colab.kernel.invokeFunction('convertToInteractive',\n",
              "                                                     [key], {});\n",
              "          if (!dataTable) return;\n",
              "\n",
              "          const docLinkHtml = 'Like what you see? Visit the ' +\n",
              "            '<a target=\"_blank\" href=https://colab.research.google.com/notebooks/data_table.ipynb>data table notebook</a>'\n",
              "            + ' to learn more about interactive tables.';\n",
              "          element.innerHTML = '';\n",
              "          dataTable['output_type'] = 'display_data';\n",
              "          await google.colab.output.renderOutput(dataTable, element);\n",
              "          const docLink = document.createElement('div');\n",
              "          docLink.innerHTML = docLinkHtml;\n",
              "          element.appendChild(docLink);\n",
              "        }\n",
              "      </script>\n",
              "    </div>\n",
              "  </div>\n",
              "  "
            ],
            "text/plain": [
              "  Results  count\n",
              "0       0   3464\n",
              "1       1   3961"
            ]
          },
          "metadata": {},
          "execution_count": 95
        }
      ]
    },
    {
      "cell_type": "markdown",
      "source": [
        "#Creating a pandas dataframe for Visualisation"
      ],
      "metadata": {
        "id": "vK_rrTo0YiRt"
      }
    },
    {
      "cell_type": "code",
      "source": [
        "df=df.toPandas()\n",
        "type(df)\n",
        "df.head()"
      ],
      "metadata": {
        "id": "YT4QoGikXdRt",
        "colab": {
          "base_uri": "https://localhost:8080/",
          "height": 385
        },
        "outputId": "12b99bba-d8d4-4dab-c2d5-d14164b645cd"
      },
      "execution_count": 121,
      "outputs": [
        {
          "output_type": "stream",
          "name": "stderr",
          "text": [
            "/usr/local/lib/python3.7/dist-packages/pyspark/sql/pandas/conversion.py:202: PerformanceWarning: DataFrame is highly fragmented.  This is usually the result of calling `frame.insert` many times, which has poor performance.  Consider joining all columns at once using pd.concat(axis=1) instead.  To get a de-fragmented frame, use `newframe = frame.copy()`\n",
            "  df[column_name] = series\n"
          ]
        },
        {
          "output_type": "execute_result",
          "data": {
            "text/html": [
              "\n",
              "  <div id=\"df-6bd09403-8dab-4c52-9abb-86e15ac66139\">\n",
              "    <div class=\"colab-df-container\">\n",
              "      <div>\n",
              "<style scoped>\n",
              "    .dataframe tbody tr th:only-of-type {\n",
              "        vertical-align: middle;\n",
              "    }\n",
              "\n",
              "    .dataframe tbody tr th {\n",
              "        vertical-align: top;\n",
              "    }\n",
              "\n",
              "    .dataframe thead th {\n",
              "        text-align: right;\n",
              "    }\n",
              "</style>\n",
              "<table border=\"1\" class=\"dataframe\">\n",
              "  <thead>\n",
              "    <tr style=\"text-align: right;\">\n",
              "      <th></th>\n",
              "      <th>Gameid</th>\n",
              "      <th>Blue_Team_id</th>\n",
              "      <th>bluetop_playerid</th>\n",
              "      <th>bluetop_player_name</th>\n",
              "      <th>bluetop_champion</th>\n",
              "      <th>bluetop_Game_played</th>\n",
              "      <th>bluetop_champ_win_rate</th>\n",
              "      <th>bluetop_KDA</th>\n",
              "      <th>bluetop_dmg_to_cham</th>\n",
              "      <th>bluetop_goldearned</th>\n",
              "      <th>...</th>\n",
              "      <th>blue_ban2</th>\n",
              "      <th>blue_ban3</th>\n",
              "      <th>blue_ban4</th>\n",
              "      <th>blue_ban5</th>\n",
              "      <th>red_ban1</th>\n",
              "      <th>red_ban2</th>\n",
              "      <th>red_ban3</th>\n",
              "      <th>red_ban4</th>\n",
              "      <th>red_ban5</th>\n",
              "      <th>Results</th>\n",
              "    </tr>\n",
              "  </thead>\n",
              "  <tbody>\n",
              "    <tr>\n",
              "      <th>0</th>\n",
              "      <td>ESPORTSTMNT03/1632489</td>\n",
              "      <td>DWG KIA</td>\n",
              "      <td>oe:player:b9972f46c1e52797d66236b118d2970</td>\n",
              "      <td>Khan</td>\n",
              "      <td>Mordekaiser</td>\n",
              "      <td>1</td>\n",
              "      <td>1.000</td>\n",
              "      <td>10.000000</td>\n",
              "      <td>20435</td>\n",
              "      <td>12065</td>\n",
              "      <td>...</td>\n",
              "      <td>Kai'Sa</td>\n",
              "      <td>Pantheon</td>\n",
              "      <td>Aphelios</td>\n",
              "      <td>Lucian</td>\n",
              "      <td>Akali</td>\n",
              "      <td>Samira</td>\n",
              "      <td>Taliyah</td>\n",
              "      <td>Gragas</td>\n",
              "      <td>Maokai</td>\n",
              "      <td>1</td>\n",
              "    </tr>\n",
              "    <tr>\n",
              "      <th>1</th>\n",
              "      <td>ESPORTSTMNT03/1632500</td>\n",
              "      <td>Nongshim RedForce</td>\n",
              "      <td>oe:player:6fbf57b984dbf130701e09ea4110bb8</td>\n",
              "      <td>Rich</td>\n",
              "      <td>Gragas</td>\n",
              "      <td>8</td>\n",
              "      <td>0.375</td>\n",
              "      <td>2.000000</td>\n",
              "      <td>12968</td>\n",
              "      <td>9201</td>\n",
              "      <td>...</td>\n",
              "      <td>Taliyah</td>\n",
              "      <td>Zoe</td>\n",
              "      <td>Leona</td>\n",
              "      <td>Sylas</td>\n",
              "      <td>Aatrox</td>\n",
              "      <td>Pantheon</td>\n",
              "      <td>Samira</td>\n",
              "      <td>Ekko</td>\n",
              "      <td>Orianna</td>\n",
              "      <td>0</td>\n",
              "    </tr>\n",
              "    <tr>\n",
              "      <th>2</th>\n",
              "      <td>ESPORTSTMNT03/1632502</td>\n",
              "      <td>Nongshim RedForce</td>\n",
              "      <td>oe:player:6fbf57b984dbf130701e09ea4110bb8</td>\n",
              "      <td>Rich</td>\n",
              "      <td>Gragas</td>\n",
              "      <td>8</td>\n",
              "      <td>0.375</td>\n",
              "      <td>2.000000</td>\n",
              "      <td>10139</td>\n",
              "      <td>8821</td>\n",
              "      <td>...</td>\n",
              "      <td>Taliyah</td>\n",
              "      <td>Olaf</td>\n",
              "      <td>Leona</td>\n",
              "      <td>Renekton</td>\n",
              "      <td>Aatrox</td>\n",
              "      <td>Pantheon</td>\n",
              "      <td>Samira</td>\n",
              "      <td>Kai'Sa</td>\n",
              "      <td>Ornn</td>\n",
              "      <td>0</td>\n",
              "    </tr>\n",
              "    <tr>\n",
              "      <th>3</th>\n",
              "      <td>6909-9183</td>\n",
              "      <td>Top Esports</td>\n",
              "      <td>oe:player:0c74b7f78409a4022a2c4c5a5ca3ee1</td>\n",
              "      <td>369</td>\n",
              "      <td>Karma</td>\n",
              "      <td>1</td>\n",
              "      <td>0.000</td>\n",
              "      <td>3.000000</td>\n",
              "      <td>18444</td>\n",
              "      <td>10711</td>\n",
              "      <td>...</td>\n",
              "      <td>Renekton</td>\n",
              "      <td>Zoe</td>\n",
              "      <td>Twisted Fate</td>\n",
              "      <td>Orianna</td>\n",
              "      <td>Graves</td>\n",
              "      <td>Ornn</td>\n",
              "      <td>Akali</td>\n",
              "      <td>Kennen</td>\n",
              "      <td>Jayce</td>\n",
              "      <td>0</td>\n",
              "    </tr>\n",
              "    <tr>\n",
              "      <th>4</th>\n",
              "      <td>6909-9184</td>\n",
              "      <td>Top Esports</td>\n",
              "      <td>oe:player:0c74b7f78409a4022a2c4c5a5ca3ee1</td>\n",
              "      <td>369</td>\n",
              "      <td>Jax</td>\n",
              "      <td>1</td>\n",
              "      <td>0.000</td>\n",
              "      <td>0.714286</td>\n",
              "      <td>12954</td>\n",
              "      <td>14213</td>\n",
              "      <td>...</td>\n",
              "      <td>Aatrox</td>\n",
              "      <td>Renekton</td>\n",
              "      <td>Galio</td>\n",
              "      <td>Leona</td>\n",
              "      <td>Graves</td>\n",
              "      <td>Ornn</td>\n",
              "      <td>Akali</td>\n",
              "      <td>Pantheon</td>\n",
              "      <td>Taliyah</td>\n",
              "      <td>0</td>\n",
              "    </tr>\n",
              "  </tbody>\n",
              "</table>\n",
              "<p>5 rows × 128 columns</p>\n",
              "</div>\n",
              "      <button class=\"colab-df-convert\" onclick=\"convertToInteractive('df-6bd09403-8dab-4c52-9abb-86e15ac66139')\"\n",
              "              title=\"Convert this dataframe to an interactive table.\"\n",
              "              style=\"display:none;\">\n",
              "        \n",
              "  <svg xmlns=\"http://www.w3.org/2000/svg\" height=\"24px\"viewBox=\"0 0 24 24\"\n",
              "       width=\"24px\">\n",
              "    <path d=\"M0 0h24v24H0V0z\" fill=\"none\"/>\n",
              "    <path d=\"M18.56 5.44l.94 2.06.94-2.06 2.06-.94-2.06-.94-.94-2.06-.94 2.06-2.06.94zm-11 1L8.5 8.5l.94-2.06 2.06-.94-2.06-.94L8.5 2.5l-.94 2.06-2.06.94zm10 10l.94 2.06.94-2.06 2.06-.94-2.06-.94-.94-2.06-.94 2.06-2.06.94z\"/><path d=\"M17.41 7.96l-1.37-1.37c-.4-.4-.92-.59-1.43-.59-.52 0-1.04.2-1.43.59L10.3 9.45l-7.72 7.72c-.78.78-.78 2.05 0 2.83L4 21.41c.39.39.9.59 1.41.59.51 0 1.02-.2 1.41-.59l7.78-7.78 2.81-2.81c.8-.78.8-2.07 0-2.86zM5.41 20L4 18.59l7.72-7.72 1.47 1.35L5.41 20z\"/>\n",
              "  </svg>\n",
              "      </button>\n",
              "      \n",
              "  <style>\n",
              "    .colab-df-container {\n",
              "      display:flex;\n",
              "      flex-wrap:wrap;\n",
              "      gap: 12px;\n",
              "    }\n",
              "\n",
              "    .colab-df-convert {\n",
              "      background-color: #E8F0FE;\n",
              "      border: none;\n",
              "      border-radius: 50%;\n",
              "      cursor: pointer;\n",
              "      display: none;\n",
              "      fill: #1967D2;\n",
              "      height: 32px;\n",
              "      padding: 0 0 0 0;\n",
              "      width: 32px;\n",
              "    }\n",
              "\n",
              "    .colab-df-convert:hover {\n",
              "      background-color: #E2EBFA;\n",
              "      box-shadow: 0px 1px 2px rgba(60, 64, 67, 0.3), 0px 1px 3px 1px rgba(60, 64, 67, 0.15);\n",
              "      fill: #174EA6;\n",
              "    }\n",
              "\n",
              "    [theme=dark] .colab-df-convert {\n",
              "      background-color: #3B4455;\n",
              "      fill: #D2E3FC;\n",
              "    }\n",
              "\n",
              "    [theme=dark] .colab-df-convert:hover {\n",
              "      background-color: #434B5C;\n",
              "      box-shadow: 0px 1px 3px 1px rgba(0, 0, 0, 0.15);\n",
              "      filter: drop-shadow(0px 1px 2px rgba(0, 0, 0, 0.3));\n",
              "      fill: #FFFFFF;\n",
              "    }\n",
              "  </style>\n",
              "\n",
              "      <script>\n",
              "        const buttonEl =\n",
              "          document.querySelector('#df-6bd09403-8dab-4c52-9abb-86e15ac66139 button.colab-df-convert');\n",
              "        buttonEl.style.display =\n",
              "          google.colab.kernel.accessAllowed ? 'block' : 'none';\n",
              "\n",
              "        async function convertToInteractive(key) {\n",
              "          const element = document.querySelector('#df-6bd09403-8dab-4c52-9abb-86e15ac66139');\n",
              "          const dataTable =\n",
              "            await google.colab.kernel.invokeFunction('convertToInteractive',\n",
              "                                                     [key], {});\n",
              "          if (!dataTable) return;\n",
              "\n",
              "          const docLinkHtml = 'Like what you see? Visit the ' +\n",
              "            '<a target=\"_blank\" href=https://colab.research.google.com/notebooks/data_table.ipynb>data table notebook</a>'\n",
              "            + ' to learn more about interactive tables.';\n",
              "          element.innerHTML = '';\n",
              "          dataTable['output_type'] = 'display_data';\n",
              "          await google.colab.output.renderOutput(dataTable, element);\n",
              "          const docLink = document.createElement('div');\n",
              "          docLink.innerHTML = docLinkHtml;\n",
              "          element.appendChild(docLink);\n",
              "        }\n",
              "      </script>\n",
              "    </div>\n",
              "  </div>\n",
              "  "
            ],
            "text/plain": [
              "                  Gameid       Blue_Team_id  \\\n",
              "0  ESPORTSTMNT03/1632489            DWG KIA   \n",
              "1  ESPORTSTMNT03/1632500  Nongshim RedForce   \n",
              "2  ESPORTSTMNT03/1632502  Nongshim RedForce   \n",
              "3              6909-9183        Top Esports   \n",
              "4              6909-9184        Top Esports   \n",
              "\n",
              "                            bluetop_playerid bluetop_player_name  \\\n",
              "0  oe:player:b9972f46c1e52797d66236b118d2970                Khan   \n",
              "1  oe:player:6fbf57b984dbf130701e09ea4110bb8                Rich   \n",
              "2  oe:player:6fbf57b984dbf130701e09ea4110bb8                Rich   \n",
              "3  oe:player:0c74b7f78409a4022a2c4c5a5ca3ee1                 369   \n",
              "4  oe:player:0c74b7f78409a4022a2c4c5a5ca3ee1                 369   \n",
              "\n",
              "  bluetop_champion  bluetop_Game_played  bluetop_champ_win_rate  bluetop_KDA  \\\n",
              "0      Mordekaiser                    1                   1.000    10.000000   \n",
              "1           Gragas                    8                   0.375     2.000000   \n",
              "2           Gragas                    8                   0.375     2.000000   \n",
              "3            Karma                    1                   0.000     3.000000   \n",
              "4              Jax                    1                   0.000     0.714286   \n",
              "\n",
              "   bluetop_dmg_to_cham  bluetop_goldearned  ...  blue_ban2  blue_ban3  \\\n",
              "0                20435               12065  ...     Kai'Sa   Pantheon   \n",
              "1                12968                9201  ...    Taliyah        Zoe   \n",
              "2                10139                8821  ...    Taliyah       Olaf   \n",
              "3                18444               10711  ...   Renekton        Zoe   \n",
              "4                12954               14213  ...     Aatrox   Renekton   \n",
              "\n",
              "      blue_ban4 blue_ban5 red_ban1  red_ban2  red_ban3  red_ban4  red_ban5  \\\n",
              "0      Aphelios    Lucian    Akali    Samira   Taliyah    Gragas    Maokai   \n",
              "1         Leona     Sylas   Aatrox  Pantheon    Samira      Ekko   Orianna   \n",
              "2         Leona  Renekton   Aatrox  Pantheon    Samira    Kai'Sa      Ornn   \n",
              "3  Twisted Fate   Orianna   Graves      Ornn     Akali    Kennen     Jayce   \n",
              "4         Galio     Leona   Graves      Ornn     Akali  Pantheon   Taliyah   \n",
              "\n",
              "   Results  \n",
              "0        1  \n",
              "1        0  \n",
              "2        0  \n",
              "3        0  \n",
              "4        0  \n",
              "\n",
              "[5 rows x 128 columns]"
            ]
          },
          "metadata": {},
          "execution_count": 121
        }
      ]
    },
    {
      "cell_type": "markdown",
      "source": [
        "#Visualisation:\n",
        "\n",
        "\n",
        "\n"
      ],
      "metadata": {
        "id": "bN2MG5suPmFs"
      }
    },
    {
      "cell_type": "code",
      "source": [
        "plt.figure(figsize=(12,8))\n",
        "sns.countplot(df['Results'])\n",
        "plt.xticks(rotation=90)\n",
        "plt.title(\"Count of Win and Loss for Blue team\",fontdict = { 'fontsize': 20})\n",
        "plt.show()"
      ],
      "metadata": {
        "colab": {
          "base_uri": "https://localhost:8080/",
          "height": 571
        },
        "id": "XDbZQ2tOtkTY",
        "outputId": "fa5652ce-5aa1-4263-d231-8496f582db0b"
      },
      "execution_count": 122,
      "outputs": [
        {
          "output_type": "stream",
          "name": "stderr",
          "text": [
            "/usr/local/lib/python3.7/dist-packages/seaborn/_decorators.py:43: FutureWarning: Pass the following variable as a keyword arg: x. From version 0.12, the only valid positional argument will be `data`, and passing other arguments without an explicit keyword will result in an error or misinterpretation.\n",
            "  FutureWarning\n"
          ]
        },
        {
          "output_type": "display_data",
          "data": {
            "image/png": "[encoded data removed]",
            "text/plain": [
              "<Figure size 864x576 with 1 Axes>"
            ]
          },
          "metadata": {
            "needs_background": "light"
          }
        }
      ]
    },
    {
      "cell_type": "markdown",
      "source": [
        "1 represent blue team wins and 0 means it lost."
      ],
      "metadata": {
        "id": "OhKBy0XIPtWA"
      }
    },
    {
      "cell_type": "code",
      "source": [
        "plt.figure(figsize=(15,8))\n",
        "sns.countplot(df['bluetop_champion'])\n",
        "plt.xticks(rotation=90)\n",
        "plt.title(\"Distribution of champions picked by blueteam top position player\",fontdict = { 'fontsize': 20})\n",
        "plt.show()"
      ],
      "metadata": {
        "colab": {
          "base_uri": "https://localhost:8080/",
          "height": 627
        },
        "id": "NYZr971Sku5K",
        "outputId": "d1a4272c-f97d-4ce4-ac45-1334e354bf57"
      },
      "execution_count": 123,
      "outputs": [
        {
          "output_type": "stream",
          "name": "stderr",
          "text": [
            "/usr/local/lib/python3.7/dist-packages/seaborn/_decorators.py:43: FutureWarning: Pass the following variable as a keyword arg: x. From version 0.12, the only valid positional argument will be `data`, and passing other arguments without an explicit keyword will result in an error or misinterpretation.\n",
            "  FutureWarning\n"
          ]
        },
        {
          "output_type": "display_data",
          "data": {
            "image/png": "[encoded data removed]",
            "text/plain": [
              "<Figure size 1080x576 with 1 Axes>"
            ]
          },
          "metadata": {
            "needs_background": "light"
          }
        }
      ]
    },
    {
      "cell_type": "markdown",
      "source": [
        "Plot shows the distribution of champions picked by blue team top position players.\n",
        "We can see \"Gnar\" and \"Renekton\" are two most picked champions."
      ],
      "metadata": {
        "id": "0egL3I-UPy2H"
      }
    },
    {
      "cell_type": "code",
      "source": [
        "plt.figure(figsize=(15,8))\n",
        "sns.countplot(df['bluetop_Game_played'])\n",
        "plt.title(\"Distribution of Game played by blueteam top position player\",fontdict = { 'fontsize': 20})\n",
        "plt.show()"
      ],
      "metadata": {
        "colab": {
          "base_uri": "https://localhost:8080/",
          "height": 576
        },
        "id": "q3vAWlqAku3G",
        "outputId": "58739938-aafc-4db3-ca69-f0ecffc07e40"
      },
      "execution_count": 124,
      "outputs": [
        {
          "output_type": "stream",
          "name": "stderr",
          "text": [
            "/usr/local/lib/python3.7/dist-packages/seaborn/_decorators.py:43: FutureWarning: Pass the following variable as a keyword arg: x. From version 0.12, the only valid positional argument will be `data`, and passing other arguments without an explicit keyword will result in an error or misinterpretation.\n",
            "  FutureWarning\n"
          ]
        },
        {
          "output_type": "display_data",
          "data": {
            "image/png": "[encoded data removed]",
            "text/plain": [
              "<Figure size 1080x576 with 1 Axes>"
            ]
          },
          "metadata": {
            "needs_background": "light"
          }
        }
      ]
    },
    {
      "cell_type": "markdown",
      "source": [
        "We can see from above plot,most of the players have played only one or two games in blueteam at top position.\n",
        "It is also because this player may have appeared on other positions and also in other teams as well."
      ],
      "metadata": {
        "id": "UrTcWhsNP6mp"
      }
    },
    {
      "cell_type": "code",
      "source": [
        "plt.figure(figsize=(15,8))\n",
        "sns.countplot(round(df['bluetop_champ_win_rate'],3))\n",
        "plt.xticks(rotation=45)\n",
        "plt.title(\"Distribution of Win rates of champions picked  by blueteam top position player\",fontdict = { 'fontsize': 20})\n",
        "plt.show()"
      ],
      "metadata": {
        "colab": {
          "base_uri": "https://localhost:8080/",
          "height": 593
        },
        "id": "3V5n3MErkuy3",
        "outputId": "0c80b9be-1618-48cf-91a8-f532a689c125"
      },
      "execution_count": 126,
      "outputs": [
        {
          "output_type": "stream",
          "name": "stderr",
          "text": [
            "/usr/local/lib/python3.7/dist-packages/seaborn/_decorators.py:43: FutureWarning: Pass the following variable as a keyword arg: x. From version 0.12, the only valid positional argument will be `data`, and passing other arguments without an explicit keyword will result in an error or misinterpretation.\n",
            "  FutureWarning\n"
          ]
        },
        {
          "output_type": "display_data",
          "data": {
            "image/png": "[encoded data removed]",
            "text/plain": [
              "<Figure size 1080x576 with 1 Axes>"
            ]
          },
          "metadata": {
            "needs_background": "light"
          }
        }
      ]
    },
    {
      "cell_type": "markdown",
      "source": [
        "Plot indicates that most of the players are having winrate in the dataset either 0 or 1."
      ],
      "metadata": {
        "id": "cjhFEB3AQA9x"
      }
    },
    {
      "cell_type": "code",
      "source": [
        "plt.figure(figsize=(15,8))\n",
        "plt.hist(df['bluetop_KDA'])\n",
        "plt.title(\"Distribution of KDA of champions picked  by blueteam top position player\",fontdict = { 'fontsize': 20})\n",
        "plt.show()"
      ],
      "metadata": {
        "colab": {
          "base_uri": "https://localhost:8080/",
          "height": 503
        },
        "id": "LVfgVhptrCKe",
        "outputId": "76a2a5f5-9e21-4610-84c0-c072c88286f9"
      },
      "execution_count": 127,
      "outputs": [
        {
          "output_type": "display_data",
          "data": {
            "image/png": "[encoded data removed]",
            "text/plain": [
              "<Figure size 1080x576 with 1 Axes>"
            ]
          },
          "metadata": {
            "needs_background": "light"
          }
        }
      ]
    },
    {
      "cell_type": "markdown",
      "source": [
        "Plot shows that KDA ratio is mostly lying in between 0-5.Its a Kill-Assist to death ratio.Higher it is better it is."
      ],
      "metadata": {
        "id": "vU6rTEmaQJNa"
      }
    },
    {
      "cell_type": "code",
      "source": [
        "plt.figure(figsize=(15,8))\n",
        "sns.countplot(df['bluejng_Game_played'])\n",
        "plt.title(\"Distribution of Game played  by blueteam jng position player\",fontdict = { 'fontsize': 20})\n",
        "plt.show()"
      ],
      "metadata": {
        "colab": {
          "base_uri": "https://localhost:8080/",
          "height": 576
        },
        "id": "vT0Ss7RpkutL",
        "outputId": "9e44e3fa-dfaf-4657-81e2-fb9ec33b49ed"
      },
      "execution_count": 129,
      "outputs": [
        {
          "output_type": "stream",
          "name": "stderr",
          "text": [
            "/usr/local/lib/python3.7/dist-packages/seaborn/_decorators.py:43: FutureWarning: Pass the following variable as a keyword arg: x. From version 0.12, the only valid positional argument will be `data`, and passing other arguments without an explicit keyword will result in an error or misinterpretation.\n",
            "  FutureWarning\n"
          ]
        },
        {
          "output_type": "display_data",
          "data": {
            "image/png": "[encoded data removed]",
            "text/plain": [
              "<Figure size 1080x576 with 1 Axes>"
            ]
          },
          "metadata": {
            "needs_background": "light"
          }
        }
      ]
    },
    {
      "cell_type": "markdown",
      "source": [
        "Above plot shows distribution of number of games played by bluejng players."
      ],
      "metadata": {
        "id": "D9AKEko7QSli"
      }
    },
    {
      "cell_type": "markdown",
      "source": [
        "#Methodology:"
      ],
      "metadata": {
        "id": "ps3rGaomcvVd"
      }
    },
    {
      "cell_type": "markdown",
      "source": [
        "#Again create spark dataframe:\n",
        "Because we earlier converted spark dataframe to Pandas dataframe."
      ],
      "metadata": {
        "id": "ejaMblWYQclj"
      }
    },
    {
      "cell_type": "code",
      "source": [
        "df = (spark\n",
        "  .read                                              \n",
        "  .option(\"inferSchema\",\"true\")                 \n",
        "  .option(\"header\",\"true\")                           \n",
        "  .csv(\"/content/LOL_transformed_dataset_extended_withadded_attributes.csv\"))"
      ],
      "metadata": {
        "id": "h_mmCkmc1fuu"
      },
      "execution_count": 132,
      "outputs": []
    },
    {
      "cell_type": "markdown",
      "source": [
        "For the purpose of using Logistic Regression only ,renaming \"Result\" column to \"label\" column."
      ],
      "metadata": {
        "id": "jC11DmDKQ7Fq"
      }
    },
    {
      "cell_type": "code",
      "source": [
        "df=df.withColumnRenamed(\"Results\",\"label\")\n"
      ],
      "metadata": {
        "id": "6LBXj8SMFYiT"
      },
      "execution_count": 251,
      "outputs": []
    },
    {
      "cell_type": "code",
      "source": [
        "#Select label column from df dataframe\n",
        "label=df.select('label')"
      ],
      "metadata": {
        "id": "4Kcnv8d22hvl"
      },
      "execution_count": 253,
      "outputs": []
    },
    {
      "cell_type": "markdown",
      "source": [
        "*Data has to be structured into a specific form before it can be passed to the LogisticRegression class in Spark. Specifically every feature column needs to be condensed into a ‘DenseVector’ column which we dub ‘features’ via the ‘VectorAssembler’ transformer. Here we also split the data into a training and test data sets in the ratio of 70:30.*"
      ],
      "metadata": {
        "id": "5laclYv1TDpa"
      }
    },
    {
      "cell_type": "code",
      "source": [
        "from pyspark.ml.feature import VectorAssembler\n",
        "\n",
        "logisticdata2=df.select([\"bluetop_Game_played\",\"bluetop_goldearned\",\"bluetop_monsterkillsenemyjungle\",\"bluetop_goldat10\",\"bluejng_KDA\",\\\n",
        "                         \"Blue_team_kills\",\"redtop_Game_played\",\"redtop_dmg_to_cham\",\"Red_team_kills\",\"label\"])\n",
        "\n",
        "assembler = VectorAssembler(\n",
        "    inputCols=[\"bluetop_Game_played\",\"bluetop_goldearned\",\"bluetop_monsterkillsenemyjungle\",\"bluetop_goldat10\",\"bluejng_KDA\",\\\n",
        "               \"Blue_team_kills\",\"redtop_Game_played\",\"redtop_dmg_to_cham\",\"Red_team_kills\"],\n",
        "    outputCol=\"features\")\n",
        "\n",
        "logisticdata2 = assembler.transform(logisticdata2)\n",
        "\n",
        "logisticdata2=logisticdata2.select(\"features\",\"label\")\n",
        "\n",
        "\n",
        "logistictestdata, logistictrainingdata = logisticdata2.randomSplit(weights=[0.3, 0.7],  seed=12345)\n"
      ],
      "metadata": {
        "id": "CKhbSapH98YK"
      },
      "execution_count": 254,
      "outputs": []
    },
    {
      "cell_type": "markdown",
      "source": [
        "#Logistic Regression Model\n"
      ],
      "metadata": {
        "id": "nSmC0FKYMvTa"
      }
    },
    {
      "cell_type": "code",
      "source": [
        "from pyspark.ml.classification import LogisticRegression\n",
        "lr = LogisticRegression(featuresCol = 'features', labelCol = 'label', maxIter=10)\n",
        "lrModel = lr.fit(logistictrainingdata)"
      ],
      "metadata": {
        "id": "t7eU5FF2xrlD"
      },
      "execution_count": 255,
      "outputs": []
    },
    {
      "cell_type": "markdown",
      "source": [
        "#Make predictions on the test set.\n"
      ],
      "metadata": {
        "id": "QmteuNJVI6Rz"
      }
    },
    {
      "cell_type": "code",
      "source": [
        "predictions = lrModel.transform(logistictestdata)\n",
        "predictions.select('features', 'label', 'rawPrediction', 'prediction', 'probability').show(10)"
      ],
      "metadata": {
        "colab": {
          "base_uri": "https://localhost:8080/",
          "height": 0
        },
        "id": "yu6Nf3y__2CB",
        "outputId": "37df49f2-1e4b-45e8-bb2e-b8870dce4d40"
      },
      "execution_count": 256,
      "outputs": [
        {
          "output_type": "stream",
          "name": "stdout",
          "text": [
            "+--------------------+-----+--------------------+----------+--------------------+\n",
            "|            features|label|       rawPrediction|prediction|         probability|\n",
            "+--------------------+-----+--------------------+----------+--------------------+\n",
            "|[1.0,5097.0,0.0,2...|    1|[-4.4789499642707...|       1.0|[0.01121804755547...|\n",
            "|[1.0,5119.0,0.0,2...|    0|[12.7554787743072...|       0.0|[0.99999711354560...|\n",
            "|[1.0,5313.0,0.0,3...|    1|[-8.1682972164484...|       1.0|[2.83419995735179...|\n",
            "|[1.0,6026.0,0.0,2...|    0|[7.47892634869382...|       0.0|[0.99943545533409...|\n",
            "|[1.0,6129.0,0.0,3...|    0|[6.40892191088037...|       0.0|[0.99835590854664...|\n",
            "|[1.0,6171.0,0.0,2...|    0|[8.01255390405134...|       0.0|[0.99966883212196...|\n",
            "|[1.0,6398.0,0.0,2...|    0|[6.25946538661352...|       0.0|[0.99809138194154...|\n",
            "|[1.0,6550.0,0.0,2...|    0|[9.34801379401164...|       0.0|[0.99991286927044...|\n",
            "|[1.0,6571.0,0.0,2...|    0|[7.31286733530334...|       0.0|[0.99933354238588...|\n",
            "|[1.0,6664.0,0.0,2...|    0|[5.71140814309794...|       0.0|[0.99670289574682...|\n",
            "+--------------------+-----+--------------------+----------+--------------------+\n",
            "only showing top 10 rows\n",
            "\n"
          ]
        }
      ]
    },
    {
      "cell_type": "markdown",
      "source": [
        "We can obtain the coefficients by using LogisticRegressionModel’s attributes.\n"
      ],
      "metadata": {
        "id": "KA1TyBvXJo_Q"
      }
    },
    {
      "cell_type": "code",
      "source": [
        "beta = np.sort(lrModel.coefficients)\n",
        "plt.plot(beta)\n",
        "plt.ylabel('Beta Coefficients')\n",
        "plt.show()\n"
      ],
      "metadata": {
        "colab": {
          "base_uri": "https://localhost:8080/",
          "height": 264
        },
        "id": "jRDWI8XnDCnl",
        "outputId": "c4c36edb-ca79-460b-e321-50fbc8fdb277"
      },
      "execution_count": 257,
      "outputs": [
        {
          "output_type": "display_data",
          "data": {
            "image/png": "[encoded data removed]",
            "text/plain": [
              "<Figure size 432x288 with 1 Axes>"
            ]
          },
          "metadata": {
            "needs_background": "light"
          }
        }
      ]
    },
    {
      "cell_type": "markdown",
      "source": [
        "#Summarize the model over the training set, we can also obtain the receiver-operating characteristic and areaUnderROC."
      ],
      "metadata": {
        "id": "8KJVvsarJjWJ"
      }
    },
    {
      "cell_type": "code",
      "source": [
        "trainingSummary = lrModel.summary\n",
        "roc = trainingSummary.roc.toPandas()\n",
        "plt.plot(roc['FPR'],roc['TPR'])\n",
        "plt.ylabel('False Positive Rate')\n",
        "plt.xlabel('True Positive Rate')\n",
        "plt.title('ROC Curve')\n",
        "plt.show()\n",
        "print('Training set areaUnderROC: ' + str(trainingSummary.areaUnderROC))"
      ],
      "metadata": {
        "colab": {
          "base_uri": "https://localhost:8080/",
          "height": 370
        },
        "id": "r15_SvaQDNbY",
        "outputId": "3b83ab81-d84a-4e72-fca6-faf09dddfab5"
      },
      "execution_count": 258,
      "outputs": [
        {
          "output_type": "stream",
          "name": "stderr",
          "text": [
            "/usr/local/lib/python3.7/dist-packages/pyspark/sql/context.py:127: FutureWarning: Deprecated in 3.0.0. Use SparkSession.builder.getOrCreate() instead.\n",
            "  FutureWarning\n"
          ]
        },
        {
          "output_type": "display_data",
          "data": {
            "image/png": "[encoded data removed]",
            "text/plain": [
              "<Figure size 432x288 with 1 Axes>"
            ]
          },
          "metadata": {
            "needs_background": "light"
          }
        },
        {
          "output_type": "stream",
          "name": "stdout",
          "text": [
            "Training set areaUnderROC: 0.9935623897269336\n"
          ]
        }
      ]
    },
    {
      "cell_type": "markdown",
      "source": [
        "#Precision and recall.\n"
      ],
      "metadata": {
        "id": "BZ1THh-UJaT_"
      }
    },
    {
      "cell_type": "code",
      "source": [
        "pr = trainingSummary.pr.toPandas()\n",
        "plt.plot(pr['recall'],pr['precision'])\n",
        "plt.ylabel('Precision')\n",
        "plt.xlabel('Recall')\n",
        "plt.show()"
      ],
      "metadata": {
        "colab": {
          "base_uri": "https://localhost:8080/",
          "height": 336
        },
        "id": "i2dyVgJ1DXK0",
        "outputId": "e028cbb1-79ef-4869-88fe-767b16340d54"
      },
      "execution_count": 259,
      "outputs": [
        {
          "output_type": "stream",
          "name": "stderr",
          "text": [
            "/usr/local/lib/python3.7/dist-packages/pyspark/sql/context.py:127: FutureWarning: Deprecated in 3.0.0. Use SparkSession.builder.getOrCreate() instead.\n",
            "  FutureWarning\n"
          ]
        },
        {
          "output_type": "display_data",
          "data": {
            "image/png": "[encoded data removed]",
            "text/plain": [
              "<Figure size 432x288 with 1 Axes>"
            ]
          },
          "metadata": {
            "needs_background": "light"
          }
        }
      ]
    },
    {
      "cell_type": "markdown",
      "source": [
        "#Evaluate our Logistic Regression model.\n"
      ],
      "metadata": {
        "id": "YEEZcK0mIxwW"
      }
    },
    {
      "cell_type": "code",
      "source": [
        "from pyspark.ml.evaluation import BinaryClassificationEvaluator\n",
        "evaluator = BinaryClassificationEvaluator()\n",
        "print('Test Area Under ROC', evaluator.evaluate(predictions))"
      ],
      "metadata": {
        "colab": {
          "base_uri": "https://localhost:8080/",
          "height": 0
        },
        "id": "4mWf9-KADwMe",
        "outputId": "65d13826-2a32-4aed-e6df-9b18f84453ae"
      },
      "execution_count": 260,
      "outputs": [
        {
          "output_type": "stream",
          "name": "stdout",
          "text": [
            "Test Area Under ROC 0.9954355215097405\n"
          ]
        }
      ]
    },
    {
      "cell_type": "markdown",
      "source": [
        "#Decision Tree Classifier\n"
      ],
      "metadata": {
        "id": "OJOJBrWPItw_"
      }
    },
    {
      "cell_type": "code",
      "source": [
        "from pyspark.ml.classification import DecisionTreeClassifier\n",
        "dt = DecisionTreeClassifier(featuresCol = 'features', labelCol = 'label', maxDepth = 3)\n",
        "dtModel = dt.fit(logistictrainingdata)\n",
        "predictions = dtModel.transform(logistictestdata)\n",
        "predictions.select('features', 'label', 'rawPrediction', 'prediction', 'probability').show(10)"
      ],
      "metadata": {
        "colab": {
          "base_uri": "https://localhost:8080/",
          "height": 0
        },
        "id": "3y8C96264OQI",
        "outputId": "f59b53df-330c-4a80-e72a-46a0992098c2"
      },
      "execution_count": 261,
      "outputs": [
        {
          "output_type": "stream",
          "name": "stdout",
          "text": [
            "+--------------------+-----+-------------+----------+--------------------+\n",
            "|            features|label|rawPrediction|prediction|         probability|\n",
            "+--------------------+-----+-------------+----------+--------------------+\n",
            "|[1.0,5097.0,0.0,2...|    1|[50.0,2213.0]|       1.0|[0.02209456473707...|\n",
            "|[1.0,5119.0,0.0,2...|    0|[1841.0,67.0]|       0.0|[0.96488469601677...|\n",
            "|[1.0,5313.0,0.0,3...|    1|[50.0,2213.0]|       1.0|[0.02209456473707...|\n",
            "|[1.0,6026.0,0.0,2...|    0|[1841.0,67.0]|       0.0|[0.96488469601677...|\n",
            "|[1.0,6129.0,0.0,3...|    0|[1841.0,67.0]|       0.0|[0.96488469601677...|\n",
            "|[1.0,6171.0,0.0,2...|    0|[1841.0,67.0]|       0.0|[0.96488469601677...|\n",
            "|[1.0,6398.0,0.0,2...|    0| [218.0,43.0]|       0.0|[0.83524904214559...|\n",
            "|[1.0,6550.0,0.0,2...|    0|[1841.0,67.0]|       0.0|[0.96488469601677...|\n",
            "|[1.0,6571.0,0.0,2...|    0|[1841.0,67.0]|       0.0|[0.96488469601677...|\n",
            "|[1.0,6664.0,0.0,2...|    0|[1841.0,67.0]|       0.0|[0.96488469601677...|\n",
            "+--------------------+-----+-------------+----------+--------------------+\n",
            "only showing top 10 rows\n",
            "\n"
          ]
        }
      ]
    },
    {
      "cell_type": "markdown",
      "source": [
        "#Evaluate our Decision Tree model.\n"
      ],
      "metadata": {
        "id": "W2NXDWTqIoTD"
      }
    },
    {
      "cell_type": "code",
      "source": [
        "evaluator = BinaryClassificationEvaluator()\n",
        "print(\"Test Area Under ROC: \" + str(evaluator.evaluate(predictions, {evaluator.metricName: \"areaUnderROC\"})))"
      ],
      "metadata": {
        "colab": {
          "base_uri": "https://localhost:8080/",
          "height": 0
        },
        "id": "jvQMf1Z5GrTs",
        "outputId": "cb744154-2263-4568-a26c-e91d2a5123ed"
      },
      "execution_count": 262,
      "outputs": [
        {
          "output_type": "stream",
          "name": "stdout",
          "text": [
            "Test Area Under ROC: 0.9421798904220777\n"
          ]
        }
      ]
    },
    {
      "cell_type": "markdown",
      "source": [
        "#Random Forest Classifier\n"
      ],
      "metadata": {
        "id": "ke-E89BfIbPL"
      }
    },
    {
      "cell_type": "code",
      "source": [
        "from pyspark.ml.classification import RandomForestClassifier\n",
        "rf = RandomForestClassifier(featuresCol = 'features', labelCol = 'label')\n",
        "rfModel = rf.fit(logistictrainingdata)\n",
        "predictions = rfModel.transform(logistictestdata)\n",
        "predictions.select('features', 'label', 'rawPrediction', 'prediction', 'probability').show(10)"
      ],
      "metadata": {
        "colab": {
          "base_uri": "https://localhost:8080/",
          "height": 0
        },
        "id": "MrpAvVS5G5zz",
        "outputId": "91cb634b-6e89-47f5-cb85-e6e7f405e514"
      },
      "execution_count": 263,
      "outputs": [
        {
          "output_type": "stream",
          "name": "stdout",
          "text": [
            "+--------------------+-----+--------------------+----------+--------------------+\n",
            "|            features|label|       rawPrediction|prediction|         probability|\n",
            "+--------------------+-----+--------------------+----------+--------------------+\n",
            "|[1.0,5097.0,0.0,2...|    1|[0.83732840277566...|       1.0|[0.04186642013878...|\n",
            "|[1.0,5119.0,0.0,2...|    0|[19.6705842450666...|       0.0|[0.98352921225333...|\n",
            "|[1.0,5313.0,0.0,3...|    1|[0.37076741804636...|       1.0|[0.01853837090231...|\n",
            "|[1.0,6026.0,0.0,2...|    0|[19.6705842450666...|       0.0|[0.98352921225333...|\n",
            "|[1.0,6129.0,0.0,3...|    0|[19.6705842450666...|       0.0|[0.98352921225333...|\n",
            "|[1.0,6171.0,0.0,2...|    0|[19.6705842450666...|       0.0|[0.98352921225333...|\n",
            "|[1.0,6398.0,0.0,2...|    0|[19.0103247102527...|       0.0|[0.95051623551263...|\n",
            "|[1.0,6550.0,0.0,2...|    0|[19.6705842450666...|       0.0|[0.98352921225333...|\n",
            "|[1.0,6571.0,0.0,2...|    0|[19.6510158959395...|       0.0|[0.98255079479697...|\n",
            "|[1.0,6664.0,0.0,2...|    0|[19.6510158959395...|       0.0|[0.98255079479697...|\n",
            "+--------------------+-----+--------------------+----------+--------------------+\n",
            "only showing top 10 rows\n",
            "\n"
          ]
        }
      ]
    },
    {
      "cell_type": "markdown",
      "source": [
        "#Evaluate our Random Forest Classifier.\n"
      ],
      "metadata": {
        "id": "ftTaENBJIgAJ"
      }
    },
    {
      "cell_type": "code",
      "source": [
        "evaluator = BinaryClassificationEvaluator()\n",
        "print(\"Test Area Under ROC: \" + str(evaluator.evaluate(predictions, {evaluator.metricName: \"areaUnderROC\"})))"
      ],
      "metadata": {
        "colab": {
          "base_uri": "https://localhost:8080/",
          "height": 0
        },
        "id": "hdhrQCCVHF9I",
        "outputId": "60c2b304-82c2-4963-978e-cafba205d0d2"
      },
      "execution_count": 264,
      "outputs": [
        {
          "output_type": "stream",
          "name": "stdout",
          "text": [
            "Test Area Under ROC: 0.9917761600378793\n"
          ]
        }
      ]
    },
    {
      "cell_type": "markdown",
      "source": [
        "#Gradient-Boosted Tree Classifier\n"
      ],
      "metadata": {
        "id": "ZbwhF97mIQFT"
      }
    },
    {
      "cell_type": "code",
      "source": [
        "from pyspark.ml.classification import GBTClassifier\n",
        "gbt = GBTClassifier(maxIter=10)\n",
        "gbtModel = gbt.fit(logistictrainingdata)\n",
        "predictions = gbtModel.transform(logistictestdata)\n",
        "predictions.select('features', 'label', 'rawPrediction', 'prediction', 'probability').show(10)"
      ],
      "metadata": {
        "colab": {
          "base_uri": "https://localhost:8080/",
          "height": 0
        },
        "id": "QiPDHftTHOQ-",
        "outputId": "7c2f4cee-a311-46ba-fe7f-7bd4f24ab0d0"
      },
      "execution_count": 265,
      "outputs": [
        {
          "output_type": "stream",
          "name": "stdout",
          "text": [
            "+--------------------+-----+--------------------+----------+--------------------+\n",
            "|            features|label|       rawPrediction|prediction|         probability|\n",
            "+--------------------+-----+--------------------+----------+--------------------+\n",
            "|[1.0,5097.0,0.0,2...|    1|[-1.3232164671646...|       1.0|[0.06620920431823...|\n",
            "|[1.0,5119.0,0.0,2...|    0|[1.32824318736158...|       0.0|[0.93440965102292...|\n",
            "|[1.0,5313.0,0.0,3...|    1|[-1.3232164671646...|       1.0|[0.06620920431823...|\n",
            "|[1.0,6026.0,0.0,2...|    0|[1.32824318736158...|       0.0|[0.93440965102292...|\n",
            "|[1.0,6129.0,0.0,3...|    0|[1.32263711258508...|       0.0|[0.93371912183790...|\n",
            "|[1.0,6171.0,0.0,2...|    0|[1.32824318736158...|       0.0|[0.93440965102292...|\n",
            "|[1.0,6398.0,0.0,2...|    0|[1.25722672019883...|       0.0|[0.92514886881628...|\n",
            "|[1.0,6550.0,0.0,2...|    0|[1.32824318736158...|       0.0|[0.93440965102292...|\n",
            "|[1.0,6571.0,0.0,2...|    0|[1.32477287755609...|       0.0|[0.93398298785019...|\n",
            "|[1.0,6664.0,0.0,2...|    0|[1.32824318736158...|       0.0|[0.93440965102292...|\n",
            "+--------------------+-----+--------------------+----------+--------------------+\n",
            "only showing top 10 rows\n",
            "\n"
          ]
        }
      ]
    },
    {
      "cell_type": "markdown",
      "source": [
        "#Evaluate our Gradient-Boosted Tree Classifier.\n"
      ],
      "metadata": {
        "id": "IYqfNI7HIU6W"
      }
    },
    {
      "cell_type": "code",
      "source": [
        "evaluator = BinaryClassificationEvaluator()\n",
        "print(\"Test Area Under ROC: \" + str(evaluator.evaluate(predictions, {evaluator.metricName: \"areaUnderROC\"})))"
      ],
      "metadata": {
        "colab": {
          "base_uri": "https://localhost:8080/",
          "height": 0
        },
        "id": "FyRqLqV7HcV4",
        "outputId": "32dfb021-0922-4f06-dce3-c06ffde8538c"
      },
      "execution_count": 266,
      "outputs": [
        {
          "output_type": "stream",
          "name": "stdout",
          "text": [
            "Test Area Under ROC: 0.9914121685606057\n"
          ]
        }
      ]
    },
    {
      "cell_type": "markdown",
      "source": [
        "#Conclusion:"
      ],
      "metadata": {
        "id": "27nT3NYiguVz"
      }
    },
    {
      "cell_type": "markdown",
      "source": [
        "1.Overall from the results obtained above our model on the basis of few variables taken is preforming very well,as Accuracy,Precision,Recall and Area under ROC everything is very high.\\\n",
        "2.Out of all the models tried out ,only Decision tree performed worst having least accuracy,as in our data there is lot of variation in data,and decision tree have high variance,so this is expected.\\\n",
        "3.So our model can be used for prematch winner prediction for Game League of Legends,for analysis of team composition for winning a match as winning a match is important for every player participating in the game."
      ],
      "metadata": {
        "id": "8GbtBCvPg4lq"
      }
    },
    {
      "cell_type": "code",
      "source": [
        ""
      ],
      "metadata": {
        "id": "AeUCNrgfhtha"
      },
      "execution_count": null,
      "outputs": []
    }
  ]
}